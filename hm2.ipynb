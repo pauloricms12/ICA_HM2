{
 "cells": [
  {
   "cell_type": "code",
   "execution_count": 107,
   "metadata": {
    "colab": {
     "base_uri": "https://localhost:8080/"
    },
    "executionInfo": {
     "elapsed": 9437,
     "status": "ok",
     "timestamp": 1737574658473,
     "user": {
      "displayName": "Paulo Ricardo",
      "userId": "10105613777096210087"
     },
     "user_tz": 180
    },
    "id": "LbYB0o-arDo9",
    "outputId": "9c96e577-8295-4c43-fd67-bf1bcd137ecc"
   },
   "outputs": [],
   "source": [
    "# !pip install ucimlrepo\n",
    "from ucimlrepo import fetch_ucirepo\n",
    "import pandas as pd\n",
    "import numpy as np\n",
    "import matplotlib.pyplot as plt\n",
    "import seaborn as sns\n",
    "from scipy.stats import skew\n",
    "from sklearn.preprocessing import StandardScaler\n",
    "from sklearn.linear_model import Ridge, RidgeCV, LinearRegression\n",
    "from sklearn.model_selection import KFold\n",
    "from sklearn.metrics import mean_squared_error, r2_score"
   ]
  },
  {
   "cell_type": "code",
   "execution_count": 108,
   "metadata": {},
   "outputs": [
    {
     "data": {
      "text/html": [
       "<div>\n",
       "<style scoped>\n",
       "    .dataframe tbody tr th:only-of-type {\n",
       "        vertical-align: middle;\n",
       "    }\n",
       "\n",
       "    .dataframe tbody tr th {\n",
       "        vertical-align: top;\n",
       "    }\n",
       "\n",
       "    .dataframe thead th {\n",
       "        text-align: right;\n",
       "    }\n",
       "</style>\n",
       "<table border=\"1\" class=\"dataframe\">\n",
       "  <thead>\n",
       "    <tr style=\"text-align: right;\">\n",
       "      <th></th>\n",
       "      <th>fixed_acidity</th>\n",
       "      <th>volatile_acidity</th>\n",
       "      <th>citric_acid</th>\n",
       "      <th>residual_sugar</th>\n",
       "      <th>chlorides</th>\n",
       "      <th>free_sulfur_dioxide</th>\n",
       "      <th>total_sulfur_dioxide</th>\n",
       "      <th>density</th>\n",
       "      <th>pH</th>\n",
       "      <th>sulphates</th>\n",
       "      <th>alcohol</th>\n",
       "      <th>quality</th>\n",
       "    </tr>\n",
       "  </thead>\n",
       "  <tbody>\n",
       "    <tr>\n",
       "      <th>0</th>\n",
       "      <td>7.4</td>\n",
       "      <td>0.70</td>\n",
       "      <td>0.00</td>\n",
       "      <td>1.9</td>\n",
       "      <td>0.076</td>\n",
       "      <td>11.0</td>\n",
       "      <td>34.0</td>\n",
       "      <td>0.99780</td>\n",
       "      <td>3.51</td>\n",
       "      <td>0.56</td>\n",
       "      <td>9.4</td>\n",
       "      <td>5</td>\n",
       "    </tr>\n",
       "    <tr>\n",
       "      <th>1</th>\n",
       "      <td>7.8</td>\n",
       "      <td>0.88</td>\n",
       "      <td>0.00</td>\n",
       "      <td>2.6</td>\n",
       "      <td>0.098</td>\n",
       "      <td>25.0</td>\n",
       "      <td>67.0</td>\n",
       "      <td>0.99680</td>\n",
       "      <td>3.20</td>\n",
       "      <td>0.68</td>\n",
       "      <td>9.8</td>\n",
       "      <td>5</td>\n",
       "    </tr>\n",
       "    <tr>\n",
       "      <th>2</th>\n",
       "      <td>7.8</td>\n",
       "      <td>0.76</td>\n",
       "      <td>0.04</td>\n",
       "      <td>2.3</td>\n",
       "      <td>0.092</td>\n",
       "      <td>15.0</td>\n",
       "      <td>54.0</td>\n",
       "      <td>0.99700</td>\n",
       "      <td>3.26</td>\n",
       "      <td>0.65</td>\n",
       "      <td>9.8</td>\n",
       "      <td>5</td>\n",
       "    </tr>\n",
       "    <tr>\n",
       "      <th>3</th>\n",
       "      <td>11.2</td>\n",
       "      <td>0.28</td>\n",
       "      <td>0.56</td>\n",
       "      <td>1.9</td>\n",
       "      <td>0.075</td>\n",
       "      <td>17.0</td>\n",
       "      <td>60.0</td>\n",
       "      <td>0.99800</td>\n",
       "      <td>3.16</td>\n",
       "      <td>0.58</td>\n",
       "      <td>9.8</td>\n",
       "      <td>6</td>\n",
       "    </tr>\n",
       "    <tr>\n",
       "      <th>4</th>\n",
       "      <td>7.4</td>\n",
       "      <td>0.70</td>\n",
       "      <td>0.00</td>\n",
       "      <td>1.9</td>\n",
       "      <td>0.076</td>\n",
       "      <td>11.0</td>\n",
       "      <td>34.0</td>\n",
       "      <td>0.99780</td>\n",
       "      <td>3.51</td>\n",
       "      <td>0.56</td>\n",
       "      <td>9.4</td>\n",
       "      <td>5</td>\n",
       "    </tr>\n",
       "    <tr>\n",
       "      <th>...</th>\n",
       "      <td>...</td>\n",
       "      <td>...</td>\n",
       "      <td>...</td>\n",
       "      <td>...</td>\n",
       "      <td>...</td>\n",
       "      <td>...</td>\n",
       "      <td>...</td>\n",
       "      <td>...</td>\n",
       "      <td>...</td>\n",
       "      <td>...</td>\n",
       "      <td>...</td>\n",
       "      <td>...</td>\n",
       "    </tr>\n",
       "    <tr>\n",
       "      <th>6492</th>\n",
       "      <td>6.2</td>\n",
       "      <td>0.21</td>\n",
       "      <td>0.29</td>\n",
       "      <td>1.6</td>\n",
       "      <td>0.039</td>\n",
       "      <td>24.0</td>\n",
       "      <td>92.0</td>\n",
       "      <td>0.99114</td>\n",
       "      <td>3.27</td>\n",
       "      <td>0.50</td>\n",
       "      <td>11.2</td>\n",
       "      <td>6</td>\n",
       "    </tr>\n",
       "    <tr>\n",
       "      <th>6493</th>\n",
       "      <td>6.6</td>\n",
       "      <td>0.32</td>\n",
       "      <td>0.36</td>\n",
       "      <td>8.0</td>\n",
       "      <td>0.047</td>\n",
       "      <td>57.0</td>\n",
       "      <td>168.0</td>\n",
       "      <td>0.99490</td>\n",
       "      <td>3.15</td>\n",
       "      <td>0.46</td>\n",
       "      <td>9.6</td>\n",
       "      <td>5</td>\n",
       "    </tr>\n",
       "    <tr>\n",
       "      <th>6494</th>\n",
       "      <td>6.5</td>\n",
       "      <td>0.24</td>\n",
       "      <td>0.19</td>\n",
       "      <td>1.2</td>\n",
       "      <td>0.041</td>\n",
       "      <td>30.0</td>\n",
       "      <td>111.0</td>\n",
       "      <td>0.99254</td>\n",
       "      <td>2.99</td>\n",
       "      <td>0.46</td>\n",
       "      <td>9.4</td>\n",
       "      <td>6</td>\n",
       "    </tr>\n",
       "    <tr>\n",
       "      <th>6495</th>\n",
       "      <td>5.5</td>\n",
       "      <td>0.29</td>\n",
       "      <td>0.30</td>\n",
       "      <td>1.1</td>\n",
       "      <td>0.022</td>\n",
       "      <td>20.0</td>\n",
       "      <td>110.0</td>\n",
       "      <td>0.98869</td>\n",
       "      <td>3.34</td>\n",
       "      <td>0.38</td>\n",
       "      <td>12.8</td>\n",
       "      <td>7</td>\n",
       "    </tr>\n",
       "    <tr>\n",
       "      <th>6496</th>\n",
       "      <td>6.0</td>\n",
       "      <td>0.21</td>\n",
       "      <td>0.38</td>\n",
       "      <td>0.8</td>\n",
       "      <td>0.020</td>\n",
       "      <td>22.0</td>\n",
       "      <td>98.0</td>\n",
       "      <td>0.98941</td>\n",
       "      <td>3.26</td>\n",
       "      <td>0.32</td>\n",
       "      <td>11.8</td>\n",
       "      <td>6</td>\n",
       "    </tr>\n",
       "  </tbody>\n",
       "</table>\n",
       "<p>6497 rows × 12 columns</p>\n",
       "</div>"
      ],
      "text/plain": [
       "      fixed_acidity  volatile_acidity  citric_acid  residual_sugar  chlorides  \\\n",
       "0               7.4              0.70         0.00             1.9      0.076   \n",
       "1               7.8              0.88         0.00             2.6      0.098   \n",
       "2               7.8              0.76         0.04             2.3      0.092   \n",
       "3              11.2              0.28         0.56             1.9      0.075   \n",
       "4               7.4              0.70         0.00             1.9      0.076   \n",
       "...             ...               ...          ...             ...        ...   \n",
       "6492            6.2              0.21         0.29             1.6      0.039   \n",
       "6493            6.6              0.32         0.36             8.0      0.047   \n",
       "6494            6.5              0.24         0.19             1.2      0.041   \n",
       "6495            5.5              0.29         0.30             1.1      0.022   \n",
       "6496            6.0              0.21         0.38             0.8      0.020   \n",
       "\n",
       "      free_sulfur_dioxide  total_sulfur_dioxide  density    pH  sulphates  \\\n",
       "0                    11.0                  34.0  0.99780  3.51       0.56   \n",
       "1                    25.0                  67.0  0.99680  3.20       0.68   \n",
       "2                    15.0                  54.0  0.99700  3.26       0.65   \n",
       "3                    17.0                  60.0  0.99800  3.16       0.58   \n",
       "4                    11.0                  34.0  0.99780  3.51       0.56   \n",
       "...                   ...                   ...      ...   ...        ...   \n",
       "6492                 24.0                  92.0  0.99114  3.27       0.50   \n",
       "6493                 57.0                 168.0  0.99490  3.15       0.46   \n",
       "6494                 30.0                 111.0  0.99254  2.99       0.46   \n",
       "6495                 20.0                 110.0  0.98869  3.34       0.38   \n",
       "6496                 22.0                  98.0  0.98941  3.26       0.32   \n",
       "\n",
       "      alcohol  quality  \n",
       "0         9.4        5  \n",
       "1         9.8        5  \n",
       "2         9.8        5  \n",
       "3         9.8        6  \n",
       "4         9.4        5  \n",
       "...       ...      ...  \n",
       "6492     11.2        6  \n",
       "6493      9.6        5  \n",
       "6494      9.4        6  \n",
       "6495     12.8        7  \n",
       "6496     11.8        6  \n",
       "\n",
       "[6497 rows x 12 columns]"
      ]
     },
     "execution_count": 108,
     "metadata": {},
     "output_type": "execute_result"
    }
   ],
   "source": [
    "# fetch dataset\n",
    "wine_quality = fetch_ucirepo(id=186)\n",
    "\n",
    "# data (as pandas dataframes)\n",
    "X = wine_quality.data.features\n",
    "y = wine_quality.data.targets\n",
    "df = pd.concat([X,y], axis=1)\n",
    "df"
   ]
  },
  {
   "cell_type": "code",
   "execution_count": 109,
   "metadata": {
    "colab": {
     "base_uri": "https://localhost:8080/"
    },
    "executionInfo": {
     "elapsed": 19,
     "status": "ok",
     "timestamp": 1737574658473,
     "user": {
      "displayName": "Paulo Ricardo",
      "userId": "10105613777096210087"
     },
     "user_tz": 180
    },
    "id": "tsHC65hZuVGL",
    "outputId": "325bbf10-5029-4c7d-fbf7-682307b83094"
   },
   "outputs": [
    {
     "data": {
      "text/plain": [
       "({'uci_id': 186,\n",
       "  'name': 'Wine Quality',\n",
       "  'repository_url': 'https://archive.ics.uci.edu/dataset/186/wine+quality',\n",
       "  'data_url': 'https://archive.ics.uci.edu/static/public/186/data.csv',\n",
       "  'abstract': 'Two datasets are included, related to red and white vinho verde wine samples, from the north of Portugal. The goal is to model wine quality based on physicochemical tests (see [Cortez et al., 2009], http://www3.dsi.uminho.pt/pcortez/wine/).',\n",
       "  'area': 'Business',\n",
       "  'tasks': ['Classification', 'Regression'],\n",
       "  'characteristics': ['Multivariate'],\n",
       "  'num_instances': 4898,\n",
       "  'num_features': 11,\n",
       "  'feature_types': ['Real'],\n",
       "  'demographics': [],\n",
       "  'target_col': ['quality'],\n",
       "  'index_col': None,\n",
       "  'has_missing_values': 'no',\n",
       "  'missing_values_symbol': None,\n",
       "  'year_of_dataset_creation': 2009,\n",
       "  'last_updated': 'Wed Nov 15 2023',\n",
       "  'dataset_doi': '10.24432/C56S3T',\n",
       "  'creators': ['Paulo Cortez',\n",
       "   'A. Cerdeira',\n",
       "   'F. Almeida',\n",
       "   'T. Matos',\n",
       "   'J. Reis'],\n",
       "  'intro_paper': {'ID': 252,\n",
       "   'type': 'NATIVE',\n",
       "   'title': 'Modeling wine preferences by data mining from physicochemical properties',\n",
       "   'authors': 'P. Cortez, A. Cerdeira, Fernando Almeida, Telmo Matos, J. Reis',\n",
       "   'venue': 'Decision Support Systems',\n",
       "   'year': 2009,\n",
       "   'journal': None,\n",
       "   'DOI': None,\n",
       "   'URL': 'https://www.semanticscholar.org/paper/Modeling-wine-preferences-by-data-mining-from-Cortez-Cerdeira/bf15a0ccc14ac1deb5cea570c870389c16be019c',\n",
       "   'sha': None,\n",
       "   'corpus': None,\n",
       "   'arxiv': None,\n",
       "   'mag': None,\n",
       "   'acl': None,\n",
       "   'pmid': None,\n",
       "   'pmcid': None},\n",
       "  'additional_info': {'summary': 'The two datasets are related to red and white variants of the Portuguese \"Vinho Verde\" wine. For more details, consult: http://www.vinhoverde.pt/en/ or the reference [Cortez et al., 2009].  Due to privacy and logistic issues, only physicochemical (inputs) and sensory (the output) variables are available (e.g. there is no data about grape types, wine brand, wine selling price, etc.).\\n\\nThese datasets can be viewed as classification or regression tasks.  The classes are ordered and not balanced (e.g. there are many more normal wines than excellent or poor ones). Outlier detection algorithms could be used to detect the few excellent or poor wines. Also, we are not sure if all input variables are relevant. So it could be interesting to test feature selection methods.\\n',\n",
       "   'purpose': None,\n",
       "   'funded_by': None,\n",
       "   'instances_represent': None,\n",
       "   'recommended_data_splits': None,\n",
       "   'sensitive_data': None,\n",
       "   'preprocessing_description': None,\n",
       "   'variable_info': 'For more information, read [Cortez et al., 2009].\\r\\nInput variables (based on physicochemical tests):\\r\\n   1 - fixed acidity\\r\\n   2 - volatile acidity\\r\\n   3 - citric acid\\r\\n   4 - residual sugar\\r\\n   5 - chlorides\\r\\n   6 - free sulfur dioxide\\r\\n   7 - total sulfur dioxide\\r\\n   8 - density\\r\\n   9 - pH\\r\\n   10 - sulphates\\r\\n   11 - alcohol\\r\\nOutput variable (based on sensory data): \\r\\n   12 - quality (score between 0 and 10)',\n",
       "   'citation': None}},\n",
       "                     name     role         type demographic  \\\n",
       " 0          fixed_acidity  Feature   Continuous        None   \n",
       " 1       volatile_acidity  Feature   Continuous        None   \n",
       " 2            citric_acid  Feature   Continuous        None   \n",
       " 3         residual_sugar  Feature   Continuous        None   \n",
       " 4              chlorides  Feature   Continuous        None   \n",
       " 5    free_sulfur_dioxide  Feature   Continuous        None   \n",
       " 6   total_sulfur_dioxide  Feature   Continuous        None   \n",
       " 7                density  Feature   Continuous        None   \n",
       " 8                     pH  Feature   Continuous        None   \n",
       " 9              sulphates  Feature   Continuous        None   \n",
       " 10               alcohol  Feature   Continuous        None   \n",
       " 11               quality   Target      Integer        None   \n",
       " 12                 color    Other  Categorical        None   \n",
       " \n",
       "                description units missing_values  \n",
       " 0                     None  None             no  \n",
       " 1                     None  None             no  \n",
       " 2                     None  None             no  \n",
       " 3                     None  None             no  \n",
       " 4                     None  None             no  \n",
       " 5                     None  None             no  \n",
       " 6                     None  None             no  \n",
       " 7                     None  None             no  \n",
       " 8                     None  None             no  \n",
       " 9                     None  None             no  \n",
       " 10                    None  None             no  \n",
       " 11  score between 0 and 10  None             no  \n",
       " 12            red or white  None             no  ,\n",
       "        fixed_acidity  volatile_acidity  citric_acid  residual_sugar  \\\n",
       " count    6497.000000       6497.000000  6497.000000     6497.000000   \n",
       " mean        7.215307          0.339666     0.318633        5.443235   \n",
       " std         1.296434          0.164636     0.145318        4.757804   \n",
       " min         3.800000          0.080000     0.000000        0.600000   \n",
       " 25%         6.400000          0.230000     0.250000        1.800000   \n",
       " 50%         7.000000          0.290000     0.310000        3.000000   \n",
       " 75%         7.700000          0.400000     0.390000        8.100000   \n",
       " max        15.900000          1.580000     1.660000       65.800000   \n",
       " \n",
       "          chlorides  free_sulfur_dioxide  total_sulfur_dioxide      density  \\\n",
       " count  6497.000000          6497.000000           6497.000000  6497.000000   \n",
       " mean      0.056034            30.525319            115.744574     0.994697   \n",
       " std       0.035034            17.749400             56.521855     0.002999   \n",
       " min       0.009000             1.000000              6.000000     0.987110   \n",
       " 25%       0.038000            17.000000             77.000000     0.992340   \n",
       " 50%       0.047000            29.000000            118.000000     0.994890   \n",
       " 75%       0.065000            41.000000            156.000000     0.996990   \n",
       " max       0.611000           289.000000            440.000000     1.038980   \n",
       " \n",
       "                 pH    sulphates      alcohol  \n",
       " count  6497.000000  6497.000000  6497.000000  \n",
       " mean      3.218501     0.531268    10.491801  \n",
       " std       0.160787     0.148806     1.192712  \n",
       " min       2.720000     0.220000     8.000000  \n",
       " 25%       3.110000     0.430000     9.500000  \n",
       " 50%       3.210000     0.510000    10.300000  \n",
       " 75%       3.320000     0.600000    11.300000  \n",
       " max       4.010000     2.000000    14.900000  )"
      ]
     },
     "execution_count": 109,
     "metadata": {},
     "output_type": "execute_result"
    }
   ],
   "source": [
    "wine_quality.metadata, wine_quality.variables, X.describe()"
   ]
  },
  {
   "cell_type": "code",
   "execution_count": 110,
   "metadata": {
    "colab": {
     "base_uri": "https://localhost:8080/"
    },
    "executionInfo": {
     "elapsed": 15,
     "status": "ok",
     "timestamp": 1737574658473,
     "user": {
      "displayName": "Paulo Ricardo",
      "userId": "10105613777096210087"
     },
     "user_tz": 180
    },
    "id": "7NwWJh0-rUla",
    "outputId": "7b952e07-63a0-4261-80ae-e8a8865fae08"
   },
   "outputs": [
    {
     "name": "stdout",
     "output_type": "stream",
     "text": [
      "Número de observações (N): 6497.\n",
      "Número de preditores (D): 11.\n",
      "Variável alvo (Y): ['quality']\n"
     ]
    }
   ],
   "source": [
    "print(f'Número de observações (N): {X.shape[0]}.')\n",
    "print(f'Número de preditores (D): {X.shape[1]}.')\n",
    "print('Variável alvo (Y):', wine_quality.metadata['target_col'])"
   ]
  },
  {
   "cell_type": "code",
   "execution_count": 111,
   "metadata": {
    "executionInfo": {
     "elapsed": 3,
     "status": "ok",
     "timestamp": 1737574649038,
     "user": {
      "displayName": "Paulo Ricardo",
      "userId": "10105613777096210087"
     },
     "user_tz": 180
    },
    "id": "ui4KPt4YaWEQ"
   },
   "outputs": [],
   "source": [
    "num_cols = [col for col in X.columns]\n",
    "# fig, axes = plt.subplots(4, 3, figsize=(15,15))\n",
    "# axes = axes.flatten()\n",
    "\n",
    "# for i, col in enumerate(num_cols):\n",
    "#     sns.histplot(X[col], kde=True, ax=axes[i])\n",
    "#     axes[i].set_title(f'Distribuição de {col}')\n",
    "# plt.tight_layout()"
   ]
  },
  {
   "cell_type": "code",
   "execution_count": 112,
   "metadata": {
    "colab": {
     "base_uri": "https://localhost:8080/"
    },
    "executionInfo": {
     "elapsed": 12,
     "status": "ok",
     "timestamp": 1737574658473,
     "user": {
      "displayName": "Paulo Ricardo",
      "userId": "10105613777096210087"
     },
     "user_tz": 180
    },
    "id": "KBfLuW8dbMmW",
    "outputId": "0952a6b8-d2c5-450e-c00d-c1561a5abe9c"
   },
   "outputs": [
    {
     "name": "stdout",
     "output_type": "stream",
     "text": [
      "fixed_acidity           1.722892\n",
      "volatile_acidity        1.494751\n",
      "citric_acid             0.471622\n",
      "residual_sugar          1.435073\n",
      "chlorides               5.398581\n",
      "free_sulfur_dioxide     1.219784\n",
      "total_sulfur_dioxide   -0.001177\n",
      "density                 0.503485\n",
      "pH                      0.386749\n",
      "sulphates               1.796855\n",
      "alcohol                 0.565587\n",
      "dtype: float64\n"
     ]
    }
   ],
   "source": [
    "skew_values = X[num_cols].apply(lambda x: skew(x.dropna()))\n",
    "print(skew_values)"
   ]
  },
  {
   "cell_type": "code",
   "execution_count": 113,
   "metadata": {
    "executionInfo": {
     "elapsed": 10,
     "status": "ok",
     "timestamp": 1737574658474,
     "user": {
      "displayName": "Paulo Ricardo",
      "userId": "10105613777096210087"
     },
     "user_tz": 180
    },
    "id": "KJZFyc074Bkl"
   },
   "outputs": [],
   "source": [
    "#Yeo and Johnson transformation\n",
    "\n",
    "features_with_zeros = [column for column in X.columns if (X[column] == 0).any()]\n",
    "\n",
    "X_transformed = X.copy()\n",
    "\n",
    "for col in X.columns:\n",
    "    if abs(skew_values[col])>0.5:\n",
    "        X_transformed[col] = np.log1p(X_transformed[col]) if col in features_with_zeros else np.log(X_transformed[col])"
   ]
  },
  {
   "cell_type": "code",
   "execution_count": 114,
   "metadata": {
    "colab": {
     "base_uri": "https://localhost:8080/"
    },
    "executionInfo": {
     "elapsed": 10,
     "status": "ok",
     "timestamp": 1737574658474,
     "user": {
      "displayName": "Paulo Ricardo",
      "userId": "10105613777096210087"
     },
     "user_tz": 180
    },
    "id": "Fd0mh-YQ4Bkm",
    "outputId": "ecd32f1d-58ea-4f29-bf97-8fb5110562c3"
   },
   "outputs": [
    {
     "name": "stdout",
     "output_type": "stream",
     "text": [
      "fixed_acidity           0.888932\n",
      "volatile_acidity        0.327723\n",
      "citric_acid             0.471622\n",
      "residual_sugar          0.240636\n",
      "chlorides               0.876270\n",
      "free_sulfur_dioxide    -0.834005\n",
      "total_sulfur_dioxide   -0.001177\n",
      "density                 0.467260\n",
      "pH                      0.386749\n",
      "sulphates               0.404899\n",
      "alcohol                 0.381772\n",
      "dtype: float64\n"
     ]
    }
   ],
   "source": [
    "skew_values_transformed = X_transformed[num_cols].apply(lambda x: skew(x.dropna()))\n",
    "print(skew_values_transformed)"
   ]
  },
  {
   "cell_type": "code",
   "execution_count": 115,
   "metadata": {
    "executionInfo": {
     "elapsed": 8,
     "status": "ok",
     "timestamp": 1737574658474,
     "user": {
      "displayName": "Paulo Ricardo",
      "userId": "10105613777096210087"
     },
     "user_tz": 180
    },
    "id": "b0BALCuDicLI"
   },
   "outputs": [],
   "source": [
    "num_cols_transformed = [col for col in X_transformed.columns]\n",
    "\n",
    "# fig, axes = plt.subplots(4, 3, figsize=(15,15))\n",
    "# axes = axes.flatten()\n",
    "\n",
    "# for i, col in enumerate(num_cols_transformed):\n",
    "#     sns.histplot(X_transformed[col], kde=True, ax=axes[i])\n",
    "#     # axes[i].set_title(f'Distribuição de {col}')\n",
    "# fig.suptitle(\"Distribution after Yeo and Johnson transformation\", fontsize=15)\n",
    "# fig.tight_layout()"
   ]
  },
  {
   "cell_type": "code",
   "execution_count": 116,
   "metadata": {
    "colab": {
     "base_uri": "https://localhost:8080/",
     "height": 820
    },
    "executionInfo": {
     "elapsed": 1296,
     "status": "ok",
     "timestamp": 1737574659762,
     "user": {
      "displayName": "Paulo Ricardo",
      "userId": "10105613777096210087"
     },
     "user_tz": 180
    },
    "id": "y_jtsVDmjXM-",
    "outputId": "313469b7-e22c-46c2-8ca3-a50db283b7a7"
   },
   "outputs": [
    {
     "data": {
      "image/png": "[encoded data removed]",
      "text/plain": [
       "<Figure size 1000x800 with 2 Axes>"
      ]
     },
     "metadata": {},
     "output_type": "display_data"
    }
   ],
   "source": [
    "# Se quisermos a matriz de correlação depois de transformada\n",
    "corr_matrix = X_transformed[num_cols_transformed].corr()\n",
    "\n",
    "plt.figure(figsize=(10, 8))\n",
    "sns.heatmap(corr_matrix,\n",
    "            annot=True,\n",
    "            cmap='coolwarm',\n",
    "            fmt='.2f',\n",
    "            mask=np.triu(np.ones_like(corr_matrix, dtype=bool)))\n",
    "plt.title('Matriz de Correlação entre Preditores')\n",
    "plt.show()"
   ]
  },
  {
   "cell_type": "code",
   "execution_count": 117,
   "metadata": {
    "colab": {
     "base_uri": "https://localhost:8080/",
     "height": 452
    },
    "executionInfo": {
     "elapsed": 29,
     "status": "ok",
     "timestamp": 1737574659763,
     "user": {
      "displayName": "Paulo Ricardo",
      "userId": "10105613777096210087"
     },
     "user_tz": 180
    },
    "id": "yTjAmQrkxSUr",
    "outputId": "8bbb9357-1612-4593-82a2-c9aa0dca0ca1"
   },
   "outputs": [
    {
     "data": {
      "image/png": "[encoded data removed]",
      "text/plain": [
       "<Figure size 640x480 with 2 Axes>"
      ]
     },
     "metadata": {},
     "output_type": "display_data"
    }
   ],
   "source": [
    "corr_matrix = pd.concat([X_transformed, y], axis=1)\n",
    "sns.heatmap(corr_matrix.corr()[['quality']],\n",
    "            annot=True,\n",
    "            cmap='coolwarm',\n",
    "            fmt='.2f'\n",
    ")\n",
    "plt.title('Correlation between Target and Predictors')\n",
    "plt.show()"
   ]
  },
  {
   "cell_type": "code",
   "execution_count": 118,
   "metadata": {
    "colab": {
     "base_uri": "https://localhost:8080/",
     "height": 424
    },
    "executionInfo": {
     "elapsed": 27,
     "status": "ok",
     "timestamp": 1737574659763,
     "user": {
      "displayName": "Paulo Ricardo",
      "userId": "10105613777096210087"
     },
     "user_tz": 180
    },
    "id": "R8_uQrCV4Bkq",
    "outputId": "b3a0db6d-3aad-4c0b-9a6b-d1e2932ad394"
   },
   "outputs": [
    {
     "data": {
      "text/html": [
       "<div>\n",
       "<style scoped>\n",
       "    .dataframe tbody tr th:only-of-type {\n",
       "        vertical-align: middle;\n",
       "    }\n",
       "\n",
       "    .dataframe tbody tr th {\n",
       "        vertical-align: top;\n",
       "    }\n",
       "\n",
       "    .dataframe thead th {\n",
       "        text-align: right;\n",
       "    }\n",
       "</style>\n",
       "<table border=\"1\" class=\"dataframe\">\n",
       "  <thead>\n",
       "    <tr style=\"text-align: right;\">\n",
       "      <th></th>\n",
       "      <th>fixed_acidity</th>\n",
       "      <th>volatile_acidity</th>\n",
       "      <th>citric_acid</th>\n",
       "      <th>residual_sugar</th>\n",
       "      <th>chlorides</th>\n",
       "      <th>free_sulfur_dioxide</th>\n",
       "      <th>total_sulfur_dioxide</th>\n",
       "      <th>density</th>\n",
       "      <th>pH</th>\n",
       "      <th>sulphates</th>\n",
       "      <th>alcohol</th>\n",
       "    </tr>\n",
       "  </thead>\n",
       "  <tbody>\n",
       "    <tr>\n",
       "      <th>0</th>\n",
       "      <td>2.001480</td>\n",
       "      <td>-0.356675</td>\n",
       "      <td>0.00</td>\n",
       "      <td>0.641854</td>\n",
       "      <td>-2.577022</td>\n",
       "      <td>2.397895</td>\n",
       "      <td>34.0</td>\n",
       "      <td>-0.002202</td>\n",
       "      <td>3.51</td>\n",
       "      <td>-0.579818</td>\n",
       "      <td>2.240710</td>\n",
       "    </tr>\n",
       "    <tr>\n",
       "      <th>1</th>\n",
       "      <td>2.054124</td>\n",
       "      <td>-0.127833</td>\n",
       "      <td>0.00</td>\n",
       "      <td>0.955511</td>\n",
       "      <td>-2.322788</td>\n",
       "      <td>3.218876</td>\n",
       "      <td>67.0</td>\n",
       "      <td>-0.003205</td>\n",
       "      <td>3.20</td>\n",
       "      <td>-0.385662</td>\n",
       "      <td>2.282382</td>\n",
       "    </tr>\n",
       "    <tr>\n",
       "      <th>2</th>\n",
       "      <td>2.054124</td>\n",
       "      <td>-0.274437</td>\n",
       "      <td>0.04</td>\n",
       "      <td>0.832909</td>\n",
       "      <td>-2.385967</td>\n",
       "      <td>2.708050</td>\n",
       "      <td>54.0</td>\n",
       "      <td>-0.003005</td>\n",
       "      <td>3.26</td>\n",
       "      <td>-0.430783</td>\n",
       "      <td>2.282382</td>\n",
       "    </tr>\n",
       "    <tr>\n",
       "      <th>3</th>\n",
       "      <td>2.415914</td>\n",
       "      <td>-1.272966</td>\n",
       "      <td>0.56</td>\n",
       "      <td>0.641854</td>\n",
       "      <td>-2.590267</td>\n",
       "      <td>2.833213</td>\n",
       "      <td>60.0</td>\n",
       "      <td>-0.002002</td>\n",
       "      <td>3.16</td>\n",
       "      <td>-0.544727</td>\n",
       "      <td>2.282382</td>\n",
       "    </tr>\n",
       "    <tr>\n",
       "      <th>4</th>\n",
       "      <td>2.001480</td>\n",
       "      <td>-0.356675</td>\n",
       "      <td>0.00</td>\n",
       "      <td>0.641854</td>\n",
       "      <td>-2.577022</td>\n",
       "      <td>2.397895</td>\n",
       "      <td>34.0</td>\n",
       "      <td>-0.002202</td>\n",
       "      <td>3.51</td>\n",
       "      <td>-0.579818</td>\n",
       "      <td>2.240710</td>\n",
       "    </tr>\n",
       "    <tr>\n",
       "      <th>...</th>\n",
       "      <td>...</td>\n",
       "      <td>...</td>\n",
       "      <td>...</td>\n",
       "      <td>...</td>\n",
       "      <td>...</td>\n",
       "      <td>...</td>\n",
       "      <td>...</td>\n",
       "      <td>...</td>\n",
       "      <td>...</td>\n",
       "      <td>...</td>\n",
       "      <td>...</td>\n",
       "    </tr>\n",
       "    <tr>\n",
       "      <th>6492</th>\n",
       "      <td>1.824549</td>\n",
       "      <td>-1.560648</td>\n",
       "      <td>0.29</td>\n",
       "      <td>0.470004</td>\n",
       "      <td>-3.244194</td>\n",
       "      <td>3.178054</td>\n",
       "      <td>92.0</td>\n",
       "      <td>-0.008899</td>\n",
       "      <td>3.27</td>\n",
       "      <td>-0.693147</td>\n",
       "      <td>2.415914</td>\n",
       "    </tr>\n",
       "    <tr>\n",
       "      <th>6493</th>\n",
       "      <td>1.887070</td>\n",
       "      <td>-1.139434</td>\n",
       "      <td>0.36</td>\n",
       "      <td>2.079442</td>\n",
       "      <td>-3.057608</td>\n",
       "      <td>4.043051</td>\n",
       "      <td>168.0</td>\n",
       "      <td>-0.005113</td>\n",
       "      <td>3.15</td>\n",
       "      <td>-0.776529</td>\n",
       "      <td>2.261763</td>\n",
       "    </tr>\n",
       "    <tr>\n",
       "      <th>6494</th>\n",
       "      <td>1.871802</td>\n",
       "      <td>-1.427116</td>\n",
       "      <td>0.19</td>\n",
       "      <td>0.182322</td>\n",
       "      <td>-3.194183</td>\n",
       "      <td>3.401197</td>\n",
       "      <td>111.0</td>\n",
       "      <td>-0.007488</td>\n",
       "      <td>2.99</td>\n",
       "      <td>-0.776529</td>\n",
       "      <td>2.240710</td>\n",
       "    </tr>\n",
       "    <tr>\n",
       "      <th>6495</th>\n",
       "      <td>1.704748</td>\n",
       "      <td>-1.237874</td>\n",
       "      <td>0.30</td>\n",
       "      <td>0.095310</td>\n",
       "      <td>-3.816713</td>\n",
       "      <td>2.995732</td>\n",
       "      <td>110.0</td>\n",
       "      <td>-0.011374</td>\n",
       "      <td>3.34</td>\n",
       "      <td>-0.967584</td>\n",
       "      <td>2.549445</td>\n",
       "    </tr>\n",
       "    <tr>\n",
       "      <th>6496</th>\n",
       "      <td>1.791759</td>\n",
       "      <td>-1.560648</td>\n",
       "      <td>0.38</td>\n",
       "      <td>-0.223144</td>\n",
       "      <td>-3.912023</td>\n",
       "      <td>3.091042</td>\n",
       "      <td>98.0</td>\n",
       "      <td>-0.010646</td>\n",
       "      <td>3.26</td>\n",
       "      <td>-1.139434</td>\n",
       "      <td>2.468100</td>\n",
       "    </tr>\n",
       "  </tbody>\n",
       "</table>\n",
       "<p>6497 rows × 11 columns</p>\n",
       "</div>"
      ],
      "text/plain": [
       "      fixed_acidity  volatile_acidity  citric_acid  residual_sugar  chlorides  \\\n",
       "0          2.001480         -0.356675         0.00        0.641854  -2.577022   \n",
       "1          2.054124         -0.127833         0.00        0.955511  -2.322788   \n",
       "2          2.054124         -0.274437         0.04        0.832909  -2.385967   \n",
       "3          2.415914         -1.272966         0.56        0.641854  -2.590267   \n",
       "4          2.001480         -0.356675         0.00        0.641854  -2.577022   \n",
       "...             ...               ...          ...             ...        ...   \n",
       "6492       1.824549         -1.560648         0.29        0.470004  -3.244194   \n",
       "6493       1.887070         -1.139434         0.36        2.079442  -3.057608   \n",
       "6494       1.871802         -1.427116         0.19        0.182322  -3.194183   \n",
       "6495       1.704748         -1.237874         0.30        0.095310  -3.816713   \n",
       "6496       1.791759         -1.560648         0.38       -0.223144  -3.912023   \n",
       "\n",
       "      free_sulfur_dioxide  total_sulfur_dioxide   density    pH  sulphates  \\\n",
       "0                2.397895                  34.0 -0.002202  3.51  -0.579818   \n",
       "1                3.218876                  67.0 -0.003205  3.20  -0.385662   \n",
       "2                2.708050                  54.0 -0.003005  3.26  -0.430783   \n",
       "3                2.833213                  60.0 -0.002002  3.16  -0.544727   \n",
       "4                2.397895                  34.0 -0.002202  3.51  -0.579818   \n",
       "...                   ...                   ...       ...   ...        ...   \n",
       "6492             3.178054                  92.0 -0.008899  3.27  -0.693147   \n",
       "6493             4.043051                 168.0 -0.005113  3.15  -0.776529   \n",
       "6494             3.401197                 111.0 -0.007488  2.99  -0.776529   \n",
       "6495             2.995732                 110.0 -0.011374  3.34  -0.967584   \n",
       "6496             3.091042                  98.0 -0.010646  3.26  -1.139434   \n",
       "\n",
       "       alcohol  \n",
       "0     2.240710  \n",
       "1     2.282382  \n",
       "2     2.282382  \n",
       "3     2.282382  \n",
       "4     2.240710  \n",
       "...        ...  \n",
       "6492  2.415914  \n",
       "6493  2.261763  \n",
       "6494  2.240710  \n",
       "6495  2.549445  \n",
       "6496  2.468100  \n",
       "\n",
       "[6497 rows x 11 columns]"
      ]
     },
     "execution_count": 118,
     "metadata": {},
     "output_type": "execute_result"
    }
   ],
   "source": [
    "X_transformed"
   ]
  },
  {
   "cell_type": "code",
   "execution_count": 119,
   "metadata": {
    "colab": {
     "base_uri": "https://localhost:8080/"
    },
    "executionInfo": {
     "elapsed": 26,
     "status": "ok",
     "timestamp": 1737574659763,
     "user": {
      "displayName": "Paulo Ricardo",
      "userId": "10105613777096210087"
     },
     "user_tz": 180
    },
    "id": "MJlhOp4D4Bkr",
    "outputId": "aefba3ba-cb61-4e6f-fe52-03224a148392"
   },
   "outputs": [
    {
     "name": "stdout",
     "output_type": "stream",
     "text": [
      "Tamanho do conjunto de treino: 4352 observações.\n",
      "Tamanho do conjunto de teste: 2145 observações.\n"
     ]
    }
   ],
   "source": [
    "from sklearn.model_selection import train_test_split\n",
    "\n",
    "X_train, X_test, y_train, y_test = train_test_split(\n",
    "    X_transformed, y,\n",
    "    test_size=0.33\n",
    ")\n",
    "\n",
    "print(f'Tamanho do conjunto de treino: {X_train.shape[0]} observações.')\n",
    "print(f'Tamanho do conjunto de teste: {y_test.shape[0]} observações.')"
   ]
  },
  {
   "cell_type": "code",
   "execution_count": 120,
   "metadata": {
    "colab": {
     "base_uri": "https://localhost:8080/"
    },
    "executionInfo": {
     "elapsed": 23,
     "status": "ok",
     "timestamp": 1737574659763,
     "user": {
      "displayName": "Paulo Ricardo",
      "userId": "10105613777096210087"
     },
     "user_tz": 180
    },
    "id": "Dmrf4Bb64Bkr",
    "outputId": "92797a73-7c63-4357-9eca-bd9f9cb98391"
   },
   "outputs": [
    {
     "data": {
      "text/plain": [
       "(np.float64(-4.619833886943173),\n",
       " np.float64(5.7686137297945494),\n",
       " np.float64(-4.619833886943173),\n",
       " np.float64(14.683328148323119))"
      ]
     },
     "execution_count": 120,
     "metadata": {},
     "output_type": "execute_result"
    }
   ],
   "source": [
    "from sklearn.preprocessing import StandardScaler\n",
    "\n",
    "scaler = StandardScaler()\n",
    "\n",
    "X_train_scaled = scaler.fit_transform(X_train)\n",
    "X_test_scaled = scaler.transform(X_test)\n",
    "\n",
    "X_train_scaled.min(), X_train_scaled.max(), X_test_scaled.min(), X_test_scaled.max()"
   ]
  },
  {
   "cell_type": "code",
   "execution_count": 121,
   "metadata": {
    "colab": {
     "base_uri": "https://localhost:8080/"
    },
    "executionInfo": {
     "elapsed": 21,
     "status": "ok",
     "timestamp": 1737574659763,
     "user": {
      "displayName": "Paulo Ricardo",
      "userId": "10105613777096210087"
     },
     "user_tz": 180
    },
    "id": "5J7z6mAn4Bkr",
    "outputId": "fdc9e401-ae3f-42b0-e466-de3f57481a86"
   },
   "outputs": [
    {
     "data": {
      "text/plain": [
       "(array([1.64859686e-01, 4.36171559e-01, 1.45256572e-01, 8.61834800e-01,\n",
       "        4.32689374e-01, 6.97270132e-01, 5.66114547e+01, 2.96493997e-03,\n",
       "        1.59607581e-01, 2.55848293e-01, 1.11430953e-01]),\n",
       " array([ 1.96420613e+00, -1.17970960e+00,  3.20261949e-01,  1.33158318e+00,\n",
       "        -2.98867618e+00,  3.22127218e+00,  1.16024816e+02, -5.29572384e-03,\n",
       "         3.21673024e+00, -6.66575852e-01,  2.34308950e+00]))"
      ]
     },
     "execution_count": 121,
     "metadata": {},
     "output_type": "execute_result"
    }
   ],
   "source": [
    "scaler.scale_, scaler.mean_"
   ]
  },
  {
   "cell_type": "code",
   "execution_count": 122,
   "metadata": {
    "colab": {
     "base_uri": "https://localhost:8080/"
    },
    "executionInfo": {
     "elapsed": 19,
     "status": "ok",
     "timestamp": 1737574659763,
     "user": {
      "displayName": "Paulo Ricardo",
      "userId": "10105613777096210087"
     },
     "user_tz": 180
    },
    "id": "8WZfugPx4Bkr",
    "outputId": "cac3080b-f5f6-4053-8591-041e3404ba3c"
   },
   "outputs": [
    {
     "data": {
      "text/plain": [
       "(np.float64(-0.010266857049854304), np.float64(2.3963303118413303e-16))"
      ]
     },
     "execution_count": 122,
     "metadata": {},
     "output_type": "execute_result"
    }
   ],
   "source": [
    "X_test_scaled.mean(), X_train_scaled.mean()"
   ]
  },
  {
   "cell_type": "code",
   "execution_count": 123,
   "metadata": {
    "executionInfo": {
     "elapsed": 17,
     "status": "ok",
     "timestamp": 1737574659763,
     "user": {
      "displayName": "Paulo Ricardo",
      "userId": "10105613777096210087"
     },
     "user_tz": 180
    },
    "id": "C2gZA3734Bks"
   },
   "outputs": [],
   "source": [
    "X_train_scaled1 = np.c_[np.ones_like(X_train_scaled[:, 0]), X_train_scaled]\n",
    "X_test_scaled1 = np.c_[np.ones_like(X_test_scaled[:, 0]), X_test_scaled]"
   ]
  },
  {
   "cell_type": "code",
   "execution_count": 124,
   "metadata": {
    "colab": {
     "base_uri": "https://localhost:8080/"
    },
    "executionInfo": {
     "elapsed": 17,
     "status": "ok",
     "timestamp": 1737574659763,
     "user": {
      "displayName": "Paulo Ricardo",
      "userId": "10105613777096210087"
     },
     "user_tz": 180
    },
    "id": "AQIPswLu4Bks",
    "outputId": "464be9a1-b1a4-43ab-fd28-957cc5ce3357"
   },
   "outputs": [
    {
     "data": {
      "text/plain": [
       "((4352, 11), (2145, 11), (4352, 12), (2145, 12))"
      ]
     },
     "execution_count": 124,
     "metadata": {},
     "output_type": "execute_result"
    }
   ],
   "source": [
    "X_train_scaled.shape, X_test_scaled.shape, X_train_scaled1.shape, X_test_scaled1.shape"
   ]
  },
  {
   "cell_type": "markdown",
   "metadata": {},
   "source": [
    "# CUSTOM OLS"
   ]
  },
  {
   "cell_type": "markdown",
   "metadata": {},
   "source": [
    "$$\n",
    "\\boldsymbol{\\beta} = \\left( X^\\top X \\right)^{-1} X^\\top \\mathbf{y}\n",
    "$$"
   ]
  },
  {
   "cell_type": "code",
   "execution_count": 125,
   "metadata": {
    "colab": {
     "base_uri": "https://localhost:8080/",
     "height": 394
    },
    "executionInfo": {
     "elapsed": 15,
     "status": "ok",
     "timestamp": 1737574659764,
     "user": {
      "displayName": "Paulo Ricardo",
      "userId": "10105613777096210087"
     },
     "user_tz": 180
    },
    "id": "zBgqa7yD4Bkt",
    "outputId": "d1e91ab9-34bb-4449-e5d1-ce70c5aea95a"
   },
   "outputs": [
    {
     "data": {
      "text/html": [
       "<div>\n",
       "<style scoped>\n",
       "    .dataframe tbody tr th:only-of-type {\n",
       "        vertical-align: middle;\n",
       "    }\n",
       "\n",
       "    .dataframe tbody tr th {\n",
       "        vertical-align: top;\n",
       "    }\n",
       "\n",
       "    .dataframe thead th {\n",
       "        text-align: right;\n",
       "    }\n",
       "</style>\n",
       "<table border=\"1\" class=\"dataframe\">\n",
       "  <thead>\n",
       "    <tr style=\"text-align: right;\">\n",
       "      <th></th>\n",
       "      <th>quality</th>\n",
       "    </tr>\n",
       "  </thead>\n",
       "  <tbody>\n",
       "    <tr>\n",
       "      <th>0</th>\n",
       "      <td>0.071728</td>\n",
       "    </tr>\n",
       "    <tr>\n",
       "      <th>1</th>\n",
       "      <td>-0.220441</td>\n",
       "    </tr>\n",
       "    <tr>\n",
       "      <th>2</th>\n",
       "      <td>0.000628</td>\n",
       "    </tr>\n",
       "    <tr>\n",
       "      <th>3</th>\n",
       "      <td>0.187793</td>\n",
       "    </tr>\n",
       "    <tr>\n",
       "      <th>4</th>\n",
       "      <td>-0.021441</td>\n",
       "    </tr>\n",
       "    <tr>\n",
       "      <th>5</th>\n",
       "      <td>0.181424</td>\n",
       "    </tr>\n",
       "    <tr>\n",
       "      <th>6</th>\n",
       "      <td>-0.197585</td>\n",
       "    </tr>\n",
       "    <tr>\n",
       "      <th>7</th>\n",
       "      <td>-0.118710</td>\n",
       "    </tr>\n",
       "    <tr>\n",
       "      <th>8</th>\n",
       "      <td>0.039033</td>\n",
       "    </tr>\n",
       "    <tr>\n",
       "      <th>9</th>\n",
       "      <td>0.112104</td>\n",
       "    </tr>\n",
       "    <tr>\n",
       "      <th>10</th>\n",
       "      <td>0.314068</td>\n",
       "    </tr>\n",
       "  </tbody>\n",
       "</table>\n",
       "</div>"
      ],
      "text/plain": [
       "     quality\n",
       "0   0.071728\n",
       "1  -0.220441\n",
       "2   0.000628\n",
       "3   0.187793\n",
       "4  -0.021441\n",
       "5   0.181424\n",
       "6  -0.197585\n",
       "7  -0.118710\n",
       "8   0.039033\n",
       "9   0.112104\n",
       "10  0.314068"
      ]
     },
     "execution_count": 125,
     "metadata": {},
     "output_type": "execute_result"
    }
   ],
   "source": [
    "beta = np.linalg.inv(X_train_scaled.T @ X_train_scaled) @ X_train_scaled.T @ y_train\n",
    "beta"
   ]
  },
  {
   "cell_type": "code",
   "execution_count": 126,
   "metadata": {
    "colab": {
     "base_uri": "https://localhost:8080/"
    },
    "executionInfo": {
     "elapsed": 14,
     "status": "ok",
     "timestamp": 1737574659764,
     "user": {
      "displayName": "Paulo Ricardo",
      "userId": "10105613777096210087"
     },
     "user_tz": 180
    },
    "id": "iAbJkj8-4Bkt",
    "outputId": "7ef31609-815c-46fb-f5a0-0c77c01738b5"
   },
   "outputs": [
    {
     "name": "stdout",
     "output_type": "stream",
     "text": [
      "RSS_train = 2364.960033399524\n",
      "MSE_train = 0.5434191253215818\n",
      "R2_train = 0.29377341962453296\n",
      "\n",
      "\n",
      "RSS_test = 1085.671\n",
      "MSE_test = 0.506\n",
      "R2_test = 0.323\n"
     ]
    }
   ],
   "source": [
    "def custom_OLS(X_train, X_test, y_train, y_test):\n",
    "\n",
    "  beta = np.linalg.inv(X_train.T @ X_train) @ X_train.T @ y_train\n",
    "\n",
    "  y_train_pred = X_train @ beta\n",
    "  y_test_pred = X_test @ beta\n",
    "\n",
    "  #Train Error\n",
    "  RSS_train = np.sum((np.array(y_train_pred) - np.array(y_train))**2)\n",
    "  MSE_train = RSS_train/y_train.shape[0]\n",
    "  R2_train = 1 - np.sum((np.array(y_train) - np.array(y_train_pred)) ** 2) / np.sum((np.array(y_train) - np.array(y_train).mean()) ** 2)\n",
    "\n",
    "  print(f'RSS_train = {RSS_train}')\n",
    "  print(f'MSE_train = {MSE_train}')\n",
    "  print(f'R2_train = {R2_train}\\n\\n')\n",
    "\n",
    "  #Test Error\n",
    "  RSS = np.sum((np.array(y_test_pred) - np.array(y_test))**2)\n",
    "  MSE = RSS/y_test.shape[0]\n",
    "  R2 = 1 - np.sum((np.array(y_test) - np.array(y_test_pred)) ** 2) / np.sum((np.array(y_test) - np.array(y_test).mean()) ** 2)\n",
    "\n",
    "  print(f'RSS_test = {RSS:.3f}')\n",
    "  print(f'MSE_test = {MSE:.3f}')\n",
    "  print(f'R2_test = {R2:.3f}')\n",
    "\n",
    "custom_OLS(X_train_scaled1, X_test_scaled1, y_train, y_test)\n"
   ]
  },
  {
   "cell_type": "code",
   "execution_count": 127,
   "metadata": {
    "colab": {
     "base_uri": "https://localhost:8080/"
    },
    "executionInfo": {
     "elapsed": 360,
     "status": "ok",
     "timestamp": 1737574660112,
     "user": {
      "displayName": "Paulo Ricardo",
      "userId": "10105613777096210087"
     },
     "user_tz": 180
    },
    "id": "Jhun2Rdo4Bkt",
    "outputId": "152aca3e-2715-41b5-c9fe-6bce410f7909"
   },
   "outputs": [
    {
     "name": "stdout",
     "output_type": "stream",
     "text": [
      "MSE = 0.506\n",
      "R2 = 0.323\n"
     ]
    }
   ],
   "source": [
    "model = LinearRegression().fit(X_train_scaled, y_train)\n",
    "\n",
    "y_pred = model.predict(X_test_scaled)\n",
    "\n",
    "r2 = r2_score(y_test, y_pred)\n",
    "mse = mean_squared_error(y_test, y_pred)\n",
    "\n",
    "print(f'MSE = {mse:.3f}')\n",
    "print(f'R2 = {r2:.3f}')"
   ]
  },
  {
   "cell_type": "markdown",
   "metadata": {},
   "source": [
    "# KFOLD CUSTOM"
   ]
  },
  {
   "cell_type": "code",
   "execution_count": 128,
   "metadata": {},
   "outputs": [],
   "source": [
    "def custom_Kfold(k, X, Y, random_seed=42):\n",
    "\n",
    "    X = np.array(X)\n",
    "    Y = np.array(Y)\n",
    "\n",
    "    n = len(X)\n",
    "    \n",
    "    np.random.seed(random_seed)\n",
    "    indexes = np.random.permutation(n)\n",
    "    X = X[indexes]\n",
    "    Y = Y[indexes]\n",
    "\n",
    "    fold_size = n//k\n",
    "    folds = []\n",
    "\n",
    "    for i in range(k):\n",
    "        test_start = i * fold_size\n",
    "        test_end = test_start + fold_size if i < k - 1 else n-2\n",
    "\n",
    "        X_test = X[test_start:test_end]\n",
    "        Y_test = Y[test_start:test_end]\n",
    "\n",
    "        X_train = np.concatenate((X[:test_start], X[test_end:]), axis=0)\n",
    "        Y_train = np.concatenate((Y[:test_start], Y[test_end:]), axis=0)\n",
    "\n",
    "        folds.append([X_train, X_test, Y_train, Y_test])\n",
    "\n",
    "    return folds"
   ]
  },
  {
   "cell_type": "markdown",
   "metadata": {},
   "source": [
    "PARA OLS\n",
    "$$\n",
    "\\boldsymbol{\\beta} = \\left( X^\\top X  \\right )^{-1} X^\\top \\mathbf{y}\n",
    "$$\n",
    "\n",
    "PARA RIDGE\n",
    "$$\n",
    "\\boldsymbol{\\beta} = \\left( X^\\top X - \\boldsymbol{\\lambda}I \\right )^{-1} X^\\top \\mathbf{y}\n",
    "$$\n",
    "\n"
   ]
  },
  {
   "cell_type": "code",
   "execution_count": 129,
   "metadata": {
    "colab": {
     "base_uri": "https://localhost:8080/"
    },
    "executionInfo": {
     "elapsed": 13,
     "status": "ok",
     "timestamp": 1737574660114,
     "user": {
      "displayName": "Paulo Ricardo",
      "userId": "10105613777096210087"
     },
     "user_tz": 180
    },
    "id": "fQCVqZw75WIt",
    "outputId": "3e22c852-245e-4d6b-ac82-6fff9c21265b"
   },
   "outputs": [],
   "source": [
    "def custom_Kfold_CV(k, X_transformed, Y, print_kfold=False, regression = 'OLS', mode='custom', penalty=0, lambdas = np.arange(1, 1001, 1)):\n",
    "    folds = custom_Kfold(k, X_transformed, Y)\n",
    "\n",
    "    mse_train_list = []\n",
    "    r2_train_list = []\n",
    "    mse_test_list = []\n",
    "    r2_test_list = []\n",
    "    betas_list = []\n",
    "\n",
    "    for i, (X_train, X_test, y_train, y_test) in enumerate(folds):\n",
    "\n",
    "        scaler = StandardScaler()\n",
    "        X_train_scaled = scaler.fit_transform(X_train)\n",
    "        X_test_scaled = scaler.transform(X_test)\n",
    "\n",
    "\n",
    "        if mode == 'custom':\n",
    "            X_train_scaled = np.c_[np.ones_like(X_train_scaled[:, 0]), X_train_scaled]\n",
    "            X_test_scaled = np.c_[np.ones_like(X_test_scaled[:, 0]), X_test_scaled]\n",
    "            beta = np.linalg.inv((X_train_scaled.T @ X_train_scaled + (penalty * np.identity(X_train_scaled.shape[1])))) @ X_train_scaled.T @ y_train\n",
    "            betas_list.append(beta)\n",
    "\n",
    "            y_train_pred = X_train_scaled @ beta\n",
    "            y_test_pred = X_test_scaled @ beta\n",
    "\n",
    "            #Train Error\n",
    "            RSS_train = np.sum((np.array(y_train_pred) - np.array(y_train))**2)\n",
    "            MSE_train = RSS_train/y_train.shape[0]\n",
    "            R2_train = 1 - np.sum((np.array(y_train) - np.array(y_train_pred)) ** 2) / np.sum((np.array(y_train) - np.array(y_train).mean()) ** 2)\n",
    "\n",
    "            mse_train_list.append(MSE_train)\n",
    "            r2_train_list.append(R2_train)\n",
    "\n",
    "            #Test Error\n",
    "            RSS = np.sum((np.array(y_test_pred) - np.array(y_test))**2)\n",
    "            MSE = RSS/y_test.shape[0]\n",
    "            R2 = 1 - np.sum((np.array(y_test) - np.array(y_test_pred)) ** 2) / np.sum((np.array(y_test) - np.array(y_test).mean()) ** 2)\n",
    "\n",
    "            mse_test_list.append(MSE)\n",
    "            r2_test_list.append(R2)\n",
    "\n",
    "            \n",
    "        elif mode == 'built-in':\n",
    "            if regression == 'OLS':\n",
    "                model = LinearRegression().fit(X_train_scaled, y_train)\n",
    "                y_pred = model.predict(X_test_scaled)\n",
    "\n",
    "                r2 = r2_score(y_test, y_pred)\n",
    "                mse = mean_squared_error(y_test, y_pred)\n",
    "                # print(f'MSE = {mse:.3f}')\n",
    "                # print(f'R2 = {r2:.3f}')\n",
    "                \n",
    "            elif regression == 'RIDGE':\n",
    "                ridge = Ridge(alpha=penalty)\n",
    "                ridge.fit(X_train_scaled, y_train)\n",
    "                y_pred = ridge.predict(X_test_scaled)\n",
    "\n",
    "                r2 = r2_score(y_test, y_pred)\n",
    "                mse = mean_squared_error(y_test, y_pred)\n",
    "                # print(f'MSE = {mse:.3f}')\n",
    "                # print(f'R2 = {r2:.3f}')\n",
    "            mse_test_list.append(mse)\n",
    "            r2_test_list.append(r2)\n",
    "\n",
    "    if print_kfold:\n",
    "        df_results = pd.DataFrame({\n",
    "        #     'MSE_train': mse_train_list,\n",
    "        #     'R2_train': r2_train_list,\n",
    "            'MSE_test': mse_test_list,\n",
    "            'R2_test': r2_test_list\n",
    "        })\n",
    "\n",
    "        display(df_results.style.format({\n",
    "        #     'MSE_train': '{:.3f}',\n",
    "        #     'R2_train': '{:.3f}',\n",
    "            'MSE_test': '{:.3f}',\n",
    "            'R2_test': '{:.3f}'\n",
    "        }))\n",
    "\n",
    "    return np.min(mse_test_list), r2_test_list[np.argmin(mse_test_list)]\n"
   ]
  },
  {
   "cell_type": "code",
   "execution_count": 130,
   "metadata": {},
   "outputs": [],
   "source": [
    "def builtin_Kfold_CV(k, X, Y, print_kfold=False, regression = 'OLS', mode='custom', penalty=0, lambdas = np.arange(1, 1001, 1)):\n",
    "\n",
    "    kf = KFold(n_splits=k, shuffle=True, random_state=42)\n",
    "    \n",
    "    mse_test_list = []\n",
    "    r2_test_list = []\n",
    "\n",
    "    for train_index, test_index in kf.split(X):\n",
    "\n",
    "        X_train, X_test = X.iloc[train_index], X.iloc[test_index]\n",
    "        y_train, y_test = Y.iloc[train_index], Y.iloc[test_index]\n",
    "\n",
    "        scaler = StandardScaler()\n",
    "        X_train_scaled = scaler.fit_transform(X_train)\n",
    "        X_test_scaled = scaler.transform(X_test)\n",
    "        \n",
    "        if mode == 'custom':\n",
    "            X_train_scaled = np.c_[np.ones_like(X_train_scaled[:, 0]), X_train_scaled]\n",
    "            X_test_scaled = np.c_[np.ones_like(X_test_scaled[:, 0]), X_test_scaled]\n",
    "            beta = np.linalg.inv((X_train_scaled.T @ X_train_scaled + (penalty * np.identity(X_train_scaled.shape[1])))) @ X_train_scaled.T @ y_train\n",
    "\n",
    "            y_train_pred = X_train_scaled @ beta\n",
    "            y_test_pred = X_test_scaled @ beta\n",
    "\n",
    "            #Train Error\n",
    "            RSS_train = np.sum((np.array(y_train_pred) - np.array(y_train))**2)\n",
    "            MSE_train = RSS_train/y_train.shape[0]\n",
    "            R2_train = 1 - np.sum((np.array(y_train) - np.array(y_train_pred)) ** 2) / np.sum((np.array(y_train) - np.array(y_train).mean()) ** 2)\n",
    "\n",
    "            # mse_train_list.append(MSE_train)\n",
    "            # r2_train_list.append(R2_train)\n",
    "\n",
    "            #Test Error\n",
    "            RSS = np.sum((np.array(y_test_pred) - np.array(y_test))**2)\n",
    "            MSE = RSS/y_test.shape[0]\n",
    "            R2 = 1 - np.sum((np.array(y_test) - np.array(y_test_pred)) ** 2) / np.sum((np.array(y_test) - np.array(y_test).mean()) ** 2)\n",
    "\n",
    "            mse_test_list.append(MSE)\n",
    "            r2_test_list.append(R2)\n",
    "\n",
    "            \n",
    "        elif mode == 'built-in':\n",
    "            if regression == 'OLS':\n",
    "                model = LinearRegression().fit(X_train_scaled, y_train)\n",
    "                y_pred = model.predict(X_test_scaled)\n",
    "                \n",
    "            elif regression == 'RIDGE':\n",
    "                ridge = Ridge(alpha=penalty)\n",
    "                ridge.fit(X_train_scaled, y_train)\n",
    "                y_pred = ridge.predict(X_test_scaled)\n",
    "\n",
    "            r2 = r2_score(y_test, y_pred)\n",
    "            mse = mean_squared_error(y_test, y_pred)\n",
    "            # print(f'MSE = {mse:.3f}')\n",
    "            # print(f'R2 = {r2:.3f}')\n",
    "            mse_test_list.append(mse)\n",
    "            r2_test_list.append(r2)\n",
    "\n",
    "    if print_kfold:\n",
    "        df_results = pd.DataFrame({\n",
    "        #     'MSE_train': mse_train_list,\n",
    "        #     'R2_train': r2_train_list,\n",
    "            'MSE_test': mse_test_list,\n",
    "            'R2_test': r2_test_list\n",
    "        })\n",
    "\n",
    "        display(df_results.style.format({\n",
    "        #     'MSE_train': '{:.3f}',\n",
    "        #     'R2_train': '{:.3f}',\n",
    "            'MSE_test': '{:.3f}',\n",
    "            'R2_test': '{:.3f}'\n",
    "        }))\n",
    "\n",
    "\n",
    "    return np.min(mse_test_list), r2_test_list[np.argmin(mse_test_list)]"
   ]
  },
  {
   "cell_type": "markdown",
   "metadata": {},
   "source": [
    "### Custom OLS and K =5"
   ]
  },
  {
   "cell_type": "code",
   "execution_count": 141,
   "metadata": {},
   "outputs": [
    {
     "data": {
      "text/html": [
       "<style type=\"text/css\">\n",
       "</style>\n",
       "<table id=\"T_309eb\">\n",
       "  <thead>\n",
       "    <tr>\n",
       "      <th class=\"blank level0\" >&nbsp;</th>\n",
       "      <th id=\"T_309eb_level0_col0\" class=\"col_heading level0 col0\" >MSE_test</th>\n",
       "      <th id=\"T_309eb_level0_col1\" class=\"col_heading level0 col1\" >R2_test</th>\n",
       "    </tr>\n",
       "  </thead>\n",
       "  <tbody>\n",
       "    <tr>\n",
       "      <th id=\"T_309eb_level0_row0\" class=\"row_heading level0 row0\" >0</th>\n",
       "      <td id=\"T_309eb_row0_col0\" class=\"data row0 col0\" >0.531</td>\n",
       "      <td id=\"T_309eb_row0_col1\" class=\"data row0 col1\" >0.281</td>\n",
       "    </tr>\n",
       "    <tr>\n",
       "      <th id=\"T_309eb_level0_row1\" class=\"row_heading level0 row1\" >1</th>\n",
       "      <td id=\"T_309eb_row1_col0\" class=\"data row1 col0\" >0.536</td>\n",
       "      <td id=\"T_309eb_row1_col1\" class=\"data row1 col1\" >0.297</td>\n",
       "    </tr>\n",
       "    <tr>\n",
       "      <th id=\"T_309eb_level0_row2\" class=\"row_heading level0 row2\" >2</th>\n",
       "      <td id=\"T_309eb_row2_col0\" class=\"data row2 col0\" >0.524</td>\n",
       "      <td id=\"T_309eb_row2_col1\" class=\"data row2 col1\" >0.320</td>\n",
       "    </tr>\n",
       "    <tr>\n",
       "      <th id=\"T_309eb_level0_row3\" class=\"row_heading level0 row3\" >3</th>\n",
       "      <td id=\"T_309eb_row3_col0\" class=\"data row3 col0\" >0.540</td>\n",
       "      <td id=\"T_309eb_row3_col1\" class=\"data row3 col1\" >0.308</td>\n",
       "    </tr>\n",
       "    <tr>\n",
       "      <th id=\"T_309eb_level0_row4\" class=\"row_heading level0 row4\" >4</th>\n",
       "      <td id=\"T_309eb_row4_col0\" class=\"data row4 col0\" >0.535</td>\n",
       "      <td id=\"T_309eb_row4_col1\" class=\"data row4 col1\" >0.297</td>\n",
       "    </tr>\n",
       "  </tbody>\n",
       "</table>\n"
      ],
      "text/plain": [
       "<pandas.io.formats.style.Styler at 0x7a3490b5ac30>"
      ]
     },
     "metadata": {},
     "output_type": "display_data"
    },
    {
     "data": {
      "text/html": [
       "<style type=\"text/css\">\n",
       "</style>\n",
       "<table id=\"T_2fbef\">\n",
       "  <thead>\n",
       "    <tr>\n",
       "      <th class=\"blank level0\" >&nbsp;</th>\n",
       "      <th id=\"T_2fbef_level0_col0\" class=\"col_heading level0 col0\" >MSE_test</th>\n",
       "      <th id=\"T_2fbef_level0_col1\" class=\"col_heading level0 col1\" >R2_test</th>\n",
       "    </tr>\n",
       "  </thead>\n",
       "  <tbody>\n",
       "    <tr>\n",
       "      <th id=\"T_2fbef_level0_row0\" class=\"row_heading level0 row0\" >0</th>\n",
       "      <td id=\"T_2fbef_row0_col0\" class=\"data row0 col0\" >0.532</td>\n",
       "      <td id=\"T_2fbef_row0_col1\" class=\"data row0 col1\" >0.280</td>\n",
       "    </tr>\n",
       "    <tr>\n",
       "      <th id=\"T_2fbef_level0_row1\" class=\"row_heading level0 row1\" >1</th>\n",
       "      <td id=\"T_2fbef_row1_col0\" class=\"data row1 col0\" >0.535</td>\n",
       "      <td id=\"T_2fbef_row1_col1\" class=\"data row1 col1\" >0.299</td>\n",
       "    </tr>\n",
       "    <tr>\n",
       "      <th id=\"T_2fbef_level0_row2\" class=\"row_heading level0 row2\" >2</th>\n",
       "      <td id=\"T_2fbef_row2_col0\" class=\"data row2 col0\" >0.525</td>\n",
       "      <td id=\"T_2fbef_row2_col1\" class=\"data row2 col1\" >0.318</td>\n",
       "    </tr>\n",
       "    <tr>\n",
       "      <th id=\"T_2fbef_level0_row3\" class=\"row_heading level0 row3\" >3</th>\n",
       "      <td id=\"T_2fbef_row3_col0\" class=\"data row3 col0\" >0.541</td>\n",
       "      <td id=\"T_2fbef_row3_col1\" class=\"data row3 col1\" >0.308</td>\n",
       "    </tr>\n",
       "    <tr>\n",
       "      <th id=\"T_2fbef_level0_row4\" class=\"row_heading level0 row4\" >4</th>\n",
       "      <td id=\"T_2fbef_row4_col0\" class=\"data row4 col0\" >0.533</td>\n",
       "      <td id=\"T_2fbef_row4_col1\" class=\"data row4 col1\" >0.298</td>\n",
       "    </tr>\n",
       "  </tbody>\n",
       "</table>\n"
      ],
      "text/plain": [
       "<pandas.io.formats.style.Styler at 0x7a3490b6cec0>"
      ]
     },
     "metadata": {},
     "output_type": "display_data"
    },
    {
     "data": {
      "text/plain": [
       "((np.float64(0.5243120549281488), np.float64(0.3197868418924781)),\n",
       " (np.float64(0.5247774134142962), np.float64(0.31782049198596596)))"
      ]
     },
     "execution_count": 141,
     "metadata": {},
     "output_type": "execute_result"
    }
   ],
   "source": [
    "custom_Kfold_CV(5, X_transformed, y, print_kfold=True ,regression='OLS', mode = 'custom'), builtin_Kfold_CV(5, X_transformed, y, print_kfold=True ,regression='OLS', mode = 'custom')"
   ]
  },
  {
   "cell_type": "markdown",
   "metadata": {},
   "source": [
    "### Built-in OLS and K = 5"
   ]
  },
  {
   "cell_type": "code",
   "execution_count": 143,
   "metadata": {},
   "outputs": [
    {
     "data": {
      "text/html": [
       "<style type=\"text/css\">\n",
       "</style>\n",
       "<table id=\"T_3acba\">\n",
       "  <thead>\n",
       "    <tr>\n",
       "      <th class=\"blank level0\" >&nbsp;</th>\n",
       "      <th id=\"T_3acba_level0_col0\" class=\"col_heading level0 col0\" >MSE_test</th>\n",
       "      <th id=\"T_3acba_level0_col1\" class=\"col_heading level0 col1\" >R2_test</th>\n",
       "    </tr>\n",
       "  </thead>\n",
       "  <tbody>\n",
       "    <tr>\n",
       "      <th id=\"T_3acba_level0_row0\" class=\"row_heading level0 row0\" >0</th>\n",
       "      <td id=\"T_3acba_row0_col0\" class=\"data row0 col0\" >0.531</td>\n",
       "      <td id=\"T_3acba_row0_col1\" class=\"data row0 col1\" >0.281</td>\n",
       "    </tr>\n",
       "    <tr>\n",
       "      <th id=\"T_3acba_level0_row1\" class=\"row_heading level0 row1\" >1</th>\n",
       "      <td id=\"T_3acba_row1_col0\" class=\"data row1 col0\" >0.536</td>\n",
       "      <td id=\"T_3acba_row1_col1\" class=\"data row1 col1\" >0.297</td>\n",
       "    </tr>\n",
       "    <tr>\n",
       "      <th id=\"T_3acba_level0_row2\" class=\"row_heading level0 row2\" >2</th>\n",
       "      <td id=\"T_3acba_row2_col0\" class=\"data row2 col0\" >0.524</td>\n",
       "      <td id=\"T_3acba_row2_col1\" class=\"data row2 col1\" >0.320</td>\n",
       "    </tr>\n",
       "    <tr>\n",
       "      <th id=\"T_3acba_level0_row3\" class=\"row_heading level0 row3\" >3</th>\n",
       "      <td id=\"T_3acba_row3_col0\" class=\"data row3 col0\" >0.540</td>\n",
       "      <td id=\"T_3acba_row3_col1\" class=\"data row3 col1\" >0.308</td>\n",
       "    </tr>\n",
       "    <tr>\n",
       "      <th id=\"T_3acba_level0_row4\" class=\"row_heading level0 row4\" >4</th>\n",
       "      <td id=\"T_3acba_row4_col0\" class=\"data row4 col0\" >0.535</td>\n",
       "      <td id=\"T_3acba_row4_col1\" class=\"data row4 col1\" >0.297</td>\n",
       "    </tr>\n",
       "  </tbody>\n",
       "</table>\n"
      ],
      "text/plain": [
       "<pandas.io.formats.style.Styler at 0x7a3490b188c0>"
      ]
     },
     "metadata": {},
     "output_type": "display_data"
    },
    {
     "data": {
      "text/html": [
       "<style type=\"text/css\">\n",
       "</style>\n",
       "<table id=\"T_aeec7\">\n",
       "  <thead>\n",
       "    <tr>\n",
       "      <th class=\"blank level0\" >&nbsp;</th>\n",
       "      <th id=\"T_aeec7_level0_col0\" class=\"col_heading level0 col0\" >MSE_test</th>\n",
       "      <th id=\"T_aeec7_level0_col1\" class=\"col_heading level0 col1\" >R2_test</th>\n",
       "    </tr>\n",
       "  </thead>\n",
       "  <tbody>\n",
       "    <tr>\n",
       "      <th id=\"T_aeec7_level0_row0\" class=\"row_heading level0 row0\" >0</th>\n",
       "      <td id=\"T_aeec7_row0_col0\" class=\"data row0 col0\" >0.532</td>\n",
       "      <td id=\"T_aeec7_row0_col1\" class=\"data row0 col1\" >0.280</td>\n",
       "    </tr>\n",
       "    <tr>\n",
       "      <th id=\"T_aeec7_level0_row1\" class=\"row_heading level0 row1\" >1</th>\n",
       "      <td id=\"T_aeec7_row1_col0\" class=\"data row1 col0\" >0.535</td>\n",
       "      <td id=\"T_aeec7_row1_col1\" class=\"data row1 col1\" >0.299</td>\n",
       "    </tr>\n",
       "    <tr>\n",
       "      <th id=\"T_aeec7_level0_row2\" class=\"row_heading level0 row2\" >2</th>\n",
       "      <td id=\"T_aeec7_row2_col0\" class=\"data row2 col0\" >0.525</td>\n",
       "      <td id=\"T_aeec7_row2_col1\" class=\"data row2 col1\" >0.318</td>\n",
       "    </tr>\n",
       "    <tr>\n",
       "      <th id=\"T_aeec7_level0_row3\" class=\"row_heading level0 row3\" >3</th>\n",
       "      <td id=\"T_aeec7_row3_col0\" class=\"data row3 col0\" >0.541</td>\n",
       "      <td id=\"T_aeec7_row3_col1\" class=\"data row3 col1\" >0.308</td>\n",
       "    </tr>\n",
       "    <tr>\n",
       "      <th id=\"T_aeec7_level0_row4\" class=\"row_heading level0 row4\" >4</th>\n",
       "      <td id=\"T_aeec7_row4_col0\" class=\"data row4 col0\" >0.533</td>\n",
       "      <td id=\"T_aeec7_row4_col1\" class=\"data row4 col1\" >0.298</td>\n",
       "    </tr>\n",
       "  </tbody>\n",
       "</table>\n"
      ],
      "text/plain": [
       "<pandas.io.formats.style.Styler at 0x7a3490b54920>"
      ]
     },
     "metadata": {},
     "output_type": "display_data"
    },
    {
     "data": {
      "text/plain": [
       "((np.float64(0.5243120549281486), 0.3197868418924784),\n",
       " (np.float64(0.5247774134142965), 0.3178204919859656))"
      ]
     },
     "execution_count": 143,
     "metadata": {},
     "output_type": "execute_result"
    }
   ],
   "source": [
    "custom_Kfold_CV(5, X_transformed, y, print_kfold=True ,regression='OLS', mode = 'built-in'), builtin_Kfold_CV(5, X_transformed, y, print_kfold=True ,regression='OLS', mode = 'built-in')"
   ]
  },
  {
   "cell_type": "markdown",
   "metadata": {},
   "source": [
    "### Custom OLS and K=10"
   ]
  },
  {
   "cell_type": "code",
   "execution_count": 142,
   "metadata": {},
   "outputs": [
    {
     "data": {
      "text/html": [
       "<style type=\"text/css\">\n",
       "</style>\n",
       "<table id=\"T_178b9\">\n",
       "  <thead>\n",
       "    <tr>\n",
       "      <th class=\"blank level0\" >&nbsp;</th>\n",
       "      <th id=\"T_178b9_level0_col0\" class=\"col_heading level0 col0\" >MSE_test</th>\n",
       "      <th id=\"T_178b9_level0_col1\" class=\"col_heading level0 col1\" >R2_test</th>\n",
       "    </tr>\n",
       "  </thead>\n",
       "  <tbody>\n",
       "    <tr>\n",
       "      <th id=\"T_178b9_level0_row0\" class=\"row_heading level0 row0\" >0</th>\n",
       "      <td id=\"T_178b9_row0_col0\" class=\"data row0 col0\" >0.482</td>\n",
       "      <td id=\"T_178b9_row0_col1\" class=\"data row0 col1\" >0.330</td>\n",
       "    </tr>\n",
       "    <tr>\n",
       "      <th id=\"T_178b9_level0_row1\" class=\"row_heading level0 row1\" >1</th>\n",
       "      <td id=\"T_178b9_row1_col0\" class=\"data row1 col0\" >0.581</td>\n",
       "      <td id=\"T_178b9_row1_col1\" class=\"data row1 col1\" >0.234</td>\n",
       "    </tr>\n",
       "    <tr>\n",
       "      <th id=\"T_178b9_level0_row2\" class=\"row_heading level0 row2\" >2</th>\n",
       "      <td id=\"T_178b9_row2_col0\" class=\"data row2 col0\" >0.494</td>\n",
       "      <td id=\"T_178b9_row2_col1\" class=\"data row2 col1\" >0.307</td>\n",
       "    </tr>\n",
       "    <tr>\n",
       "      <th id=\"T_178b9_level0_row3\" class=\"row_heading level0 row3\" >3</th>\n",
       "      <td id=\"T_178b9_row3_col0\" class=\"data row3 col0\" >0.575</td>\n",
       "      <td id=\"T_178b9_row3_col1\" class=\"data row3 col1\" >0.290</td>\n",
       "    </tr>\n",
       "    <tr>\n",
       "      <th id=\"T_178b9_level0_row4\" class=\"row_heading level0 row4\" >4</th>\n",
       "      <td id=\"T_178b9_row4_col0\" class=\"data row4 col0\" >0.529</td>\n",
       "      <td id=\"T_178b9_row4_col1\" class=\"data row4 col1\" >0.335</td>\n",
       "    </tr>\n",
       "    <tr>\n",
       "      <th id=\"T_178b9_level0_row5\" class=\"row_heading level0 row5\" >5</th>\n",
       "      <td id=\"T_178b9_row5_col0\" class=\"data row5 col0\" >0.525</td>\n",
       "      <td id=\"T_178b9_row5_col1\" class=\"data row5 col1\" >0.298</td>\n",
       "    </tr>\n",
       "    <tr>\n",
       "      <th id=\"T_178b9_level0_row6\" class=\"row_heading level0 row6\" >6</th>\n",
       "      <td id=\"T_178b9_row6_col0\" class=\"data row6 col0\" >0.570</td>\n",
       "      <td id=\"T_178b9_row6_col1\" class=\"data row6 col1\" >0.308</td>\n",
       "    </tr>\n",
       "    <tr>\n",
       "      <th id=\"T_178b9_level0_row7\" class=\"row_heading level0 row7\" >7</th>\n",
       "      <td id=\"T_178b9_row7_col0\" class=\"data row7 col0\" >0.509</td>\n",
       "      <td id=\"T_178b9_row7_col1\" class=\"data row7 col1\" >0.309</td>\n",
       "    </tr>\n",
       "    <tr>\n",
       "      <th id=\"T_178b9_level0_row8\" class=\"row_heading level0 row8\" >8</th>\n",
       "      <td id=\"T_178b9_row8_col0\" class=\"data row8 col0\" >0.604</td>\n",
       "      <td id=\"T_178b9_row8_col1\" class=\"data row8 col1\" >0.251</td>\n",
       "    </tr>\n",
       "    <tr>\n",
       "      <th id=\"T_178b9_level0_row9\" class=\"row_heading level0 row9\" >9</th>\n",
       "      <td id=\"T_178b9_row9_col0\" class=\"data row9 col0\" >0.460</td>\n",
       "      <td id=\"T_178b9_row9_col1\" class=\"data row9 col1\" >0.354</td>\n",
       "    </tr>\n",
       "  </tbody>\n",
       "</table>\n"
      ],
      "text/plain": [
       "<pandas.io.formats.style.Styler at 0x7a349a157800>"
      ]
     },
     "metadata": {},
     "output_type": "display_data"
    },
    {
     "data": {
      "text/html": [
       "<style type=\"text/css\">\n",
       "</style>\n",
       "<table id=\"T_d616b\">\n",
       "  <thead>\n",
       "    <tr>\n",
       "      <th class=\"blank level0\" >&nbsp;</th>\n",
       "      <th id=\"T_d616b_level0_col0\" class=\"col_heading level0 col0\" >MSE_test</th>\n",
       "      <th id=\"T_d616b_level0_col1\" class=\"col_heading level0 col1\" >R2_test</th>\n",
       "    </tr>\n",
       "  </thead>\n",
       "  <tbody>\n",
       "    <tr>\n",
       "      <th id=\"T_d616b_level0_row0\" class=\"row_heading level0 row0\" >0</th>\n",
       "      <td id=\"T_d616b_row0_col0\" class=\"data row0 col0\" >0.481</td>\n",
       "      <td id=\"T_d616b_row0_col1\" class=\"data row0 col1\" >0.330</td>\n",
       "    </tr>\n",
       "    <tr>\n",
       "      <th id=\"T_d616b_level0_row1\" class=\"row_heading level0 row1\" >1</th>\n",
       "      <td id=\"T_d616b_row1_col0\" class=\"data row1 col0\" >0.584</td>\n",
       "      <td id=\"T_d616b_row1_col1\" class=\"data row1 col1\" >0.231</td>\n",
       "    </tr>\n",
       "    <tr>\n",
       "      <th id=\"T_d616b_level0_row2\" class=\"row_heading level0 row2\" >2</th>\n",
       "      <td id=\"T_d616b_row2_col0\" class=\"data row2 col0\" >0.490</td>\n",
       "      <td id=\"T_d616b_row2_col1\" class=\"data row2 col1\" >0.309</td>\n",
       "    </tr>\n",
       "    <tr>\n",
       "      <th id=\"T_d616b_level0_row3\" class=\"row_heading level0 row3\" >3</th>\n",
       "      <td id=\"T_d616b_row3_col0\" class=\"data row3 col0\" >0.578</td>\n",
       "      <td id=\"T_d616b_row3_col1\" class=\"data row3 col1\" >0.289</td>\n",
       "    </tr>\n",
       "    <tr>\n",
       "      <th id=\"T_d616b_level0_row4\" class=\"row_heading level0 row4\" >4</th>\n",
       "      <td id=\"T_d616b_row4_col0\" class=\"data row4 col0\" >0.526</td>\n",
       "      <td id=\"T_d616b_row4_col1\" class=\"data row4 col1\" >0.343</td>\n",
       "    </tr>\n",
       "    <tr>\n",
       "      <th id=\"T_d616b_level0_row5\" class=\"row_heading level0 row5\" >5</th>\n",
       "      <td id=\"T_d616b_row5_col0\" class=\"data row5 col0\" >0.524</td>\n",
       "      <td id=\"T_d616b_row5_col1\" class=\"data row5 col1\" >0.290</td>\n",
       "    </tr>\n",
       "    <tr>\n",
       "      <th id=\"T_d616b_level0_row6\" class=\"row_heading level0 row6\" >6</th>\n",
       "      <td id=\"T_d616b_row6_col0\" class=\"data row6 col0\" >0.576</td>\n",
       "      <td id=\"T_d616b_row6_col1\" class=\"data row6 col1\" >0.306</td>\n",
       "    </tr>\n",
       "    <tr>\n",
       "      <th id=\"T_d616b_level0_row7\" class=\"row_heading level0 row7\" >7</th>\n",
       "      <td id=\"T_d616b_row7_col0\" class=\"data row7 col0\" >0.504</td>\n",
       "      <td id=\"T_d616b_row7_col1\" class=\"data row7 col1\" >0.312</td>\n",
       "    </tr>\n",
       "    <tr>\n",
       "      <th id=\"T_d616b_level0_row8\" class=\"row_heading level0 row8\" >8</th>\n",
       "      <td id=\"T_d616b_row8_col0\" class=\"data row8 col0\" >0.602</td>\n",
       "      <td id=\"T_d616b_row8_col1\" class=\"data row8 col1\" >0.255</td>\n",
       "    </tr>\n",
       "    <tr>\n",
       "      <th id=\"T_d616b_level0_row9\" class=\"row_heading level0 row9\" >9</th>\n",
       "      <td id=\"T_d616b_row9_col0\" class=\"data row9 col0\" >0.461</td>\n",
       "      <td id=\"T_d616b_row9_col1\" class=\"data row9 col1\" >0.351</td>\n",
       "    </tr>\n",
       "  </tbody>\n",
       "</table>\n"
      ],
      "text/plain": [
       "<pandas.io.formats.style.Styler at 0x7a349a156ab0>"
      ]
     },
     "metadata": {},
     "output_type": "display_data"
    },
    {
     "data": {
      "text/plain": [
       "((np.float64(0.4602288485420704), np.float64(0.3539149913415841)),\n",
       " (np.float64(0.46124820795565424), np.float64(0.35074388287639835)))"
      ]
     },
     "execution_count": 142,
     "metadata": {},
     "output_type": "execute_result"
    }
   ],
   "source": [
    "custom_Kfold_CV(10, X_transformed, y, print_kfold=True ,regression='OLS', mode = 'custom'), builtin_Kfold_CV(10, X_transformed, y, print_kfold=True ,regression='OLS', mode = 'custom')"
   ]
  },
  {
   "cell_type": "markdown",
   "metadata": {},
   "source": [
    "### Built-in OLS and K=10"
   ]
  },
  {
   "cell_type": "code",
   "execution_count": 144,
   "metadata": {},
   "outputs": [
    {
     "data": {
      "text/html": [
       "<style type=\"text/css\">\n",
       "</style>\n",
       "<table id=\"T_ba180\">\n",
       "  <thead>\n",
       "    <tr>\n",
       "      <th class=\"blank level0\" >&nbsp;</th>\n",
       "      <th id=\"T_ba180_level0_col0\" class=\"col_heading level0 col0\" >MSE_test</th>\n",
       "      <th id=\"T_ba180_level0_col1\" class=\"col_heading level0 col1\" >R2_test</th>\n",
       "    </tr>\n",
       "  </thead>\n",
       "  <tbody>\n",
       "    <tr>\n",
       "      <th id=\"T_ba180_level0_row0\" class=\"row_heading level0 row0\" >0</th>\n",
       "      <td id=\"T_ba180_row0_col0\" class=\"data row0 col0\" >0.482</td>\n",
       "      <td id=\"T_ba180_row0_col1\" class=\"data row0 col1\" >0.330</td>\n",
       "    </tr>\n",
       "    <tr>\n",
       "      <th id=\"T_ba180_level0_row1\" class=\"row_heading level0 row1\" >1</th>\n",
       "      <td id=\"T_ba180_row1_col0\" class=\"data row1 col0\" >0.581</td>\n",
       "      <td id=\"T_ba180_row1_col1\" class=\"data row1 col1\" >0.234</td>\n",
       "    </tr>\n",
       "    <tr>\n",
       "      <th id=\"T_ba180_level0_row2\" class=\"row_heading level0 row2\" >2</th>\n",
       "      <td id=\"T_ba180_row2_col0\" class=\"data row2 col0\" >0.494</td>\n",
       "      <td id=\"T_ba180_row2_col1\" class=\"data row2 col1\" >0.307</td>\n",
       "    </tr>\n",
       "    <tr>\n",
       "      <th id=\"T_ba180_level0_row3\" class=\"row_heading level0 row3\" >3</th>\n",
       "      <td id=\"T_ba180_row3_col0\" class=\"data row3 col0\" >0.575</td>\n",
       "      <td id=\"T_ba180_row3_col1\" class=\"data row3 col1\" >0.290</td>\n",
       "    </tr>\n",
       "    <tr>\n",
       "      <th id=\"T_ba180_level0_row4\" class=\"row_heading level0 row4\" >4</th>\n",
       "      <td id=\"T_ba180_row4_col0\" class=\"data row4 col0\" >0.529</td>\n",
       "      <td id=\"T_ba180_row4_col1\" class=\"data row4 col1\" >0.335</td>\n",
       "    </tr>\n",
       "    <tr>\n",
       "      <th id=\"T_ba180_level0_row5\" class=\"row_heading level0 row5\" >5</th>\n",
       "      <td id=\"T_ba180_row5_col0\" class=\"data row5 col0\" >0.525</td>\n",
       "      <td id=\"T_ba180_row5_col1\" class=\"data row5 col1\" >0.298</td>\n",
       "    </tr>\n",
       "    <tr>\n",
       "      <th id=\"T_ba180_level0_row6\" class=\"row_heading level0 row6\" >6</th>\n",
       "      <td id=\"T_ba180_row6_col0\" class=\"data row6 col0\" >0.570</td>\n",
       "      <td id=\"T_ba180_row6_col1\" class=\"data row6 col1\" >0.308</td>\n",
       "    </tr>\n",
       "    <tr>\n",
       "      <th id=\"T_ba180_level0_row7\" class=\"row_heading level0 row7\" >7</th>\n",
       "      <td id=\"T_ba180_row7_col0\" class=\"data row7 col0\" >0.509</td>\n",
       "      <td id=\"T_ba180_row7_col1\" class=\"data row7 col1\" >0.309</td>\n",
       "    </tr>\n",
       "    <tr>\n",
       "      <th id=\"T_ba180_level0_row8\" class=\"row_heading level0 row8\" >8</th>\n",
       "      <td id=\"T_ba180_row8_col0\" class=\"data row8 col0\" >0.604</td>\n",
       "      <td id=\"T_ba180_row8_col1\" class=\"data row8 col1\" >0.251</td>\n",
       "    </tr>\n",
       "    <tr>\n",
       "      <th id=\"T_ba180_level0_row9\" class=\"row_heading level0 row9\" >9</th>\n",
       "      <td id=\"T_ba180_row9_col0\" class=\"data row9 col0\" >0.460</td>\n",
       "      <td id=\"T_ba180_row9_col1\" class=\"data row9 col1\" >0.354</td>\n",
       "    </tr>\n",
       "  </tbody>\n",
       "</table>\n"
      ],
      "text/plain": [
       "<pandas.io.formats.style.Styler at 0x7a34985f69f0>"
      ]
     },
     "metadata": {},
     "output_type": "display_data"
    },
    {
     "data": {
      "text/html": [
       "<style type=\"text/css\">\n",
       "</style>\n",
       "<table id=\"T_2eadf\">\n",
       "  <thead>\n",
       "    <tr>\n",
       "      <th class=\"blank level0\" >&nbsp;</th>\n",
       "      <th id=\"T_2eadf_level0_col0\" class=\"col_heading level0 col0\" >MSE_test</th>\n",
       "      <th id=\"T_2eadf_level0_col1\" class=\"col_heading level0 col1\" >R2_test</th>\n",
       "    </tr>\n",
       "  </thead>\n",
       "  <tbody>\n",
       "    <tr>\n",
       "      <th id=\"T_2eadf_level0_row0\" class=\"row_heading level0 row0\" >0</th>\n",
       "      <td id=\"T_2eadf_row0_col0\" class=\"data row0 col0\" >0.481</td>\n",
       "      <td id=\"T_2eadf_row0_col1\" class=\"data row0 col1\" >0.330</td>\n",
       "    </tr>\n",
       "    <tr>\n",
       "      <th id=\"T_2eadf_level0_row1\" class=\"row_heading level0 row1\" >1</th>\n",
       "      <td id=\"T_2eadf_row1_col0\" class=\"data row1 col0\" >0.584</td>\n",
       "      <td id=\"T_2eadf_row1_col1\" class=\"data row1 col1\" >0.231</td>\n",
       "    </tr>\n",
       "    <tr>\n",
       "      <th id=\"T_2eadf_level0_row2\" class=\"row_heading level0 row2\" >2</th>\n",
       "      <td id=\"T_2eadf_row2_col0\" class=\"data row2 col0\" >0.490</td>\n",
       "      <td id=\"T_2eadf_row2_col1\" class=\"data row2 col1\" >0.309</td>\n",
       "    </tr>\n",
       "    <tr>\n",
       "      <th id=\"T_2eadf_level0_row3\" class=\"row_heading level0 row3\" >3</th>\n",
       "      <td id=\"T_2eadf_row3_col0\" class=\"data row3 col0\" >0.578</td>\n",
       "      <td id=\"T_2eadf_row3_col1\" class=\"data row3 col1\" >0.289</td>\n",
       "    </tr>\n",
       "    <tr>\n",
       "      <th id=\"T_2eadf_level0_row4\" class=\"row_heading level0 row4\" >4</th>\n",
       "      <td id=\"T_2eadf_row4_col0\" class=\"data row4 col0\" >0.526</td>\n",
       "      <td id=\"T_2eadf_row4_col1\" class=\"data row4 col1\" >0.343</td>\n",
       "    </tr>\n",
       "    <tr>\n",
       "      <th id=\"T_2eadf_level0_row5\" class=\"row_heading level0 row5\" >5</th>\n",
       "      <td id=\"T_2eadf_row5_col0\" class=\"data row5 col0\" >0.524</td>\n",
       "      <td id=\"T_2eadf_row5_col1\" class=\"data row5 col1\" >0.290</td>\n",
       "    </tr>\n",
       "    <tr>\n",
       "      <th id=\"T_2eadf_level0_row6\" class=\"row_heading level0 row6\" >6</th>\n",
       "      <td id=\"T_2eadf_row6_col0\" class=\"data row6 col0\" >0.576</td>\n",
       "      <td id=\"T_2eadf_row6_col1\" class=\"data row6 col1\" >0.306</td>\n",
       "    </tr>\n",
       "    <tr>\n",
       "      <th id=\"T_2eadf_level0_row7\" class=\"row_heading level0 row7\" >7</th>\n",
       "      <td id=\"T_2eadf_row7_col0\" class=\"data row7 col0\" >0.504</td>\n",
       "      <td id=\"T_2eadf_row7_col1\" class=\"data row7 col1\" >0.312</td>\n",
       "    </tr>\n",
       "    <tr>\n",
       "      <th id=\"T_2eadf_level0_row8\" class=\"row_heading level0 row8\" >8</th>\n",
       "      <td id=\"T_2eadf_row8_col0\" class=\"data row8 col0\" >0.602</td>\n",
       "      <td id=\"T_2eadf_row8_col1\" class=\"data row8 col1\" >0.255</td>\n",
       "    </tr>\n",
       "    <tr>\n",
       "      <th id=\"T_2eadf_level0_row9\" class=\"row_heading level0 row9\" >9</th>\n",
       "      <td id=\"T_2eadf_row9_col0\" class=\"data row9 col0\" >0.461</td>\n",
       "      <td id=\"T_2eadf_row9_col1\" class=\"data row9 col1\" >0.351</td>\n",
       "    </tr>\n",
       "  </tbody>\n",
       "</table>\n"
      ],
      "text/plain": [
       "<pandas.io.formats.style.Styler at 0x7a3490b50c50>"
      ]
     },
     "metadata": {},
     "output_type": "display_data"
    },
    {
     "data": {
      "text/plain": [
       "((np.float64(0.4602288485420702), 0.35391499134158433),\n",
       " (np.float64(0.46124820795565497), 0.35074388287639735))"
      ]
     },
     "execution_count": 144,
     "metadata": {},
     "output_type": "execute_result"
    }
   ],
   "source": [
    "custom_Kfold_CV(10, X_transformed, y, print_kfold=True ,regression='OLS', mode = 'built-in'), builtin_Kfold_CV(10, X_transformed, y, print_kfold=True ,regression='OLS', mode = 'built-in')"
   ]
  },
  {
   "cell_type": "markdown",
   "metadata": {},
   "source": [
    "### Custom Ridge and Custom KFold-CV"
   ]
  },
  {
   "cell_type": "code",
   "execution_count": 145,
   "metadata": {
    "executionInfo": {
     "elapsed": 11624,
     "status": "ok",
     "timestamp": 1737575921058,
     "user": {
      "displayName": "Paulo Ricardo",
      "userId": "10105613777096210087"
     },
     "user_tz": 180
    },
    "id": "eDWWLpPI4Bku"
   },
   "outputs": [
    {
     "name": "stdout",
     "output_type": "stream",
     "text": [
      "5-fold\n",
      "r2 = 0.320\n",
      "mse = 0.524\n",
      "best penalty with custom ridge and custom KfoldCV = 1\n",
      "\n",
      "\n",
      "10-fold\n",
      "r2 = 0.355\n",
      "mse = 0.460\n",
      "best penalty with custom ridge and custom KfoldCV = 26\n",
      "\n",
      "\n"
     ]
    },
    {
     "data": {
      "image/png": "[encoded data removed]",
      "text/plain": [
       "<Figure size 1200x500 with 2 Axes>"
      ]
     },
     "metadata": {},
     "output_type": "display_data"
    }
   ],
   "source": [
    "lambdas = np.arange(1, 101, 1)\n",
    "\n",
    "fig, ax = plt.subplots(1, 2, figsize=(12, 5))\n",
    "ax = ax.flatten()\n",
    "\n",
    "for i, k in enumerate([5,10]):\n",
    "  r2_lambda = []\n",
    "  mse_lambda = []\n",
    "  for alpha in lambdas:\n",
    "    mse, r2 = custom_Kfold_CV(k=k, X_transformed=X_transformed, Y=y, regression = 'RIDGE', mode='custom', penalty=alpha, lambdas = lambdas)\n",
    "    r2_lambda.append(r2)\n",
    "    mse_lambda.append(mse)\n",
    "  print(f\"{k}-fold\")\n",
    "  print(f\"r2 = {r2_lambda[np.argmin(mse_lambda)]:.3f}\")\n",
    "  print(f\"mse = {np.min(mse_lambda):.3f}\")\n",
    "\n",
    "  best_penalty = lambdas[np.argmin(mse_lambda)]\n",
    "  print(f\"best penalty with custom ridge and custom KfoldCV = {best_penalty}\\n\\n\")\n",
    "  ax[i].plot(lambdas, mse_lambda)\n",
    "  ax[i].set_xlabel(\"lambda\")\n",
    "  ax[i].set_ylabel(\"mse\\nn\")\n",
    "  ax[i].set_title(f'{k=}')\n",
    "\n",
    "plt.tight_layout()"
   ]
  },
  {
   "cell_type": "markdown",
   "metadata": {},
   "source": [
    "### Built-in Ridge and Custom KFold-CV"
   ]
  },
  {
   "cell_type": "code",
   "execution_count": 137,
   "metadata": {},
   "outputs": [
    {
     "name": "stdout",
     "output_type": "stream",
     "text": [
      "5-fold\n",
      "r2 = 0.320\n",
      "mse = 0.524\n",
      "best penalty with built-in ridge and custom KfoldCV = 1\n",
      "\n",
      "\n",
      "10-fold\n",
      "r2 = 0.354\n",
      "mse = 0.460\n",
      "best penalty with built-in ridge and custom KfoldCV = 48\n",
      "\n",
      "\n"
     ]
    },
    {
     "data": {
      "image/png": "[encoded data removed]",
      "text/plain": [
       "<Figure size 1200x500 with 2 Axes>"
      ]
     },
     "metadata": {},
     "output_type": "display_data"
    }
   ],
   "source": [
    "lambdas = np.arange(1, 101, 1)\n",
    "\n",
    "fig, ax = plt.subplots(1, 2, figsize=(12, 5))\n",
    "ax = ax.flatten()\n",
    "\n",
    "for i, k in enumerate([5,10]):\n",
    "  r2_lambda = []\n",
    "  mse_lambda = []\n",
    "  for alpha in lambdas:\n",
    "    mse, r2 = custom_Kfold_CV(k=k, X_transformed=X_transformed, Y=y, regression = 'RIDGE', mode='built-in', penalty=alpha, lambdas = lambdas)\n",
    "    r2_lambda.append(r2)\n",
    "    mse_lambda.append(mse)\n",
    "  print(f\"{k}-fold\")\n",
    "  print(f\"r2 = {r2_lambda[np.argmin(mse_lambda)]:.3f}\")\n",
    "  print(f\"mse = {np.min(mse_lambda):.3f}\")\n",
    "\n",
    "  best_penalty = lambdas[np.argmin(mse_lambda)]\n",
    "  print(f\"best penalty with built-in ridge and custom KfoldCV = {best_penalty}\\n\\n\")\n",
    "  ax[i].plot(lambdas, mse_lambda)\n",
    "  ax[i].set_xlabel(\"lambda\")\n",
    "  ax[i].set_ylabel(\"mse\\nn\")\n",
    "  ax[i].set_title(f'{k=}')\n",
    "\n",
    "plt.tight_layout()"
   ]
  },
  {
   "cell_type": "markdown",
   "metadata": {},
   "source": [
    "### Custom Ridge and Built-in KFold-CV"
   ]
  },
  {
   "cell_type": "code",
   "execution_count": 138,
   "metadata": {},
   "outputs": [
    {
     "name": "stdout",
     "output_type": "stream",
     "text": [
      "5-fold\n",
      "r2 = 0.318\n",
      "mse = 0.525\n",
      "best penalty with custom ridge and builtin KfoldCV = 1\n",
      "\n",
      "\n",
      "10-fold\n",
      "r2 = 0.352\n",
      "mse = 0.461\n",
      "best penalty with custom ridge and builtin KfoldCV = 26\n",
      "\n",
      "\n"
     ]
    },
    {
     "data": {
      "image/png": "[encoded data removed]",
      "text/plain": [
       "<Figure size 1200x500 with 2 Axes>"
      ]
     },
     "metadata": {},
     "output_type": "display_data"
    }
   ],
   "source": [
    "lambdas = np.arange(1, 101, 1)\n",
    "\n",
    "fig, ax = plt.subplots(1, 2, figsize=(12, 5))\n",
    "ax = ax.flatten()\n",
    "\n",
    "for i, k in enumerate([5,10]):\n",
    "  r2_lambda = []\n",
    "  mse_lambda = []\n",
    "  for alpha in lambdas:\n",
    "    mse, r2 = builtin_Kfold_CV(k=k, X=X_transformed, Y=y, regression = 'RIDGE', mode='custom', penalty=alpha, lambdas = lambdas)\n",
    "    r2_lambda.append(r2)\n",
    "    mse_lambda.append(mse)\n",
    "  print(f\"{k}-fold\")\n",
    "  print(f\"r2 = {r2_lambda[np.argmin(mse_lambda)]:.3f}\")\n",
    "  print(f\"mse = {np.min(mse_lambda):.3f}\")\n",
    "\n",
    "  best_penalty = lambdas[np.argmin(mse_lambda)]\n",
    "  print(f\"best penalty with custom ridge and builtin KfoldCV = {best_penalty}\\n\\n\")\n",
    "  ax[i].plot(lambdas, mse_lambda)\n",
    "  ax[i].set_xlabel(\"lambda\")\n",
    "  ax[i].set_ylabel(\"mse\\nn\")\n",
    "  ax[i].set_title(f'{k=}')\n",
    "\n",
    "plt.tight_layout()"
   ]
  },
  {
   "cell_type": "markdown",
   "metadata": {},
   "source": [
    "### Built-in Ridge and Built-in KFold-CV"
   ]
  },
  {
   "cell_type": "code",
   "execution_count": 139,
   "metadata": {},
   "outputs": [
    {
     "name": "stdout",
     "output_type": "stream",
     "text": [
      "5-fold\n",
      "r2 = 0.318\n",
      "mse = 0.525\n",
      "best penalty with custom ridge and builtin KfoldCV = 1\n",
      "\n",
      "\n",
      "10-fold\n",
      "r2 = 0.351\n",
      "mse = 0.461\n",
      "best penalty with custom ridge and builtin KfoldCV = 56\n",
      "\n",
      "\n"
     ]
    },
    {
     "data": {
      "image/png": "[encoded data removed]",
      "text/plain": [
       "<Figure size 1200x500 with 2 Axes>"
      ]
     },
     "metadata": {},
     "output_type": "display_data"
    }
   ],
   "source": [
    "lambdas = np.arange(1, 101, 1)\n",
    "\n",
    "fig, ax = plt.subplots(1, 2, figsize=(12, 5))\n",
    "ax = ax.flatten()\n",
    "\n",
    "for i, k in enumerate([5,10]):\n",
    "  r2_lambda = []\n",
    "  mse_lambda = []\n",
    "  for alpha in lambdas:\n",
    "    mse, r2 = builtin_Kfold_CV(k=k, X=X_transformed, Y=y, regression = 'RIDGE', mode='built-in', penalty=alpha, lambdas = lambdas)\n",
    "    r2_lambda.append(r2)\n",
    "    mse_lambda.append(mse)\n",
    "  print(f\"{k}-fold\")\n",
    "  print(f\"r2 = {r2_lambda[np.argmin(mse_lambda)]:.3f}\")\n",
    "  print(f\"mse = {np.min(mse_lambda):.3f}\")\n",
    "\n",
    "  best_penalty = lambdas[np.argmin(mse_lambda)]\n",
    "  print(f\"best penalty with custom ridge and builtin KfoldCV = {best_penalty}\\n\\n\")\n",
    "  ax[i].plot(lambdas, mse_lambda)\n",
    "  ax[i].set_xlabel(\"lambda\")\n",
    "  ax[i].set_ylabel(\"mse\\nn\")\n",
    "  ax[i].set_title(f'{k=}')\n",
    "\n",
    "plt.tight_layout()"
   ]
  },
  {
   "cell_type": "code",
   "execution_count": null,
   "metadata": {},
   "outputs": [],
   "source": []
  }
 ],
 "metadata": {
  "colab": {
   "provenance": [
    {
     "file_id": "1XB8olFrKU8a60zANZkC5D0Y8BWTcNMWt",
     "timestamp": 1737460989029
    }
   ]
  },
  "kernelspec": {
   "display_name": "venv",
   "language": "python",
   "name": "python3"
  },
  "language_info": {
   "codemirror_mode": {
    "name": "ipython",
    "version": 3
   },
   "file_extension": ".py",
   "mimetype": "text/x-python",
   "name": "python",
   "nbconvert_exporter": "python",
   "pygments_lexer": "ipython3",
   "version": "3.12.3"
  }
 },
 "nbformat": 4,
 "nbformat_minor": 0
}
